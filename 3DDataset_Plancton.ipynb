{
 "cells": [
  {
   "cell_type": "markdown",
   "metadata": {},
   "source": [
    "# 3D Dataset #"
   ]
  },
  {
   "cell_type": "code",
   "execution_count": 1,
   "metadata": {},
   "outputs": [],
   "source": [
    "\"\"\"\n",
    "PyTorch Giff Dataset Class for loading gifs using Pytorch DataLoader.\n",
    "This Dataset resizes all frames to a specific size.\n",
    "\n",
    "Facundo Calcagno\n",
    "\"\"\"\n",
    "from __future__ import print_function, division\n",
    "import cv2\n",
    "import os\n",
    "import torch\n",
    "import numpy as np\n",
    "import pickle\n",
    "from torch.utils.data import Dataset, DataLoader\n",
    "from torchvision import transforms, utils\n",
    "from PIL import Image,ImageFile,ImageFilter , ImageOps, ImageDraw\n",
    "import imageio\n",
    "import pandas as pd\n",
    "import torch.utils.data as data\n",
    "import torchvision.transforms as transforms\n",
    "import torch.nn as nn\n",
    "import torch.nn.init as init\n",
    "import torch.nn.functional as F\n",
    "from torch.autograd import Variable\n",
    "import matplotlib.pyplot as plt\n",
    "import glob\n",
    "import time\n",
    "from tqdm import tqdm,tqdm_notebook\n",
    "from sklearn.metrics import recall_score\n",
    "from skimage import transform\n",
    "import random\n",
    "import pickle\n",
    "from ignite.engine import Events, create_supervised_trainer, create_supervised_evaluator\n",
    "from ignite.metrics import CategoricalAccuracy, Loss, Recall, Precision\n",
    "\n",
    "import warnings\n",
    "warnings.filterwarnings(\"ignore\")"
   ]
  },
  {
   "cell_type": "code",
   "execution_count": 2,
   "metadata": {},
   "outputs": [],
   "source": [
    "try:\n",
    "    from tensorboardX import SummaryWriter\n",
    "except ImportError:\n",
    "    raise RuntimeError(\"No tensorboardX package is found. Please install with the command: \\npip install tensorboardX\")\n"
   ]
  },
  {
   "cell_type": "markdown",
   "metadata": {},
   "source": [
    "# Hierarchy #\n",
    "We are going to work with different hierarchies to detect objects\n",
    "1st hierarchy : Living or Not Living"
   ]
  },
  {
   "cell_type": "code",
   "execution_count": 3,
   "metadata": {},
   "outputs": [],
   "source": [
    "\n",
    "def load_obj(name ):\n",
    "    with open('../obj/' + name + '.pkl', 'rb') as f:\n",
    "        return pickle.load(f)\n",
    "hier=pd.DataFrame(load_obj(\"hierarchy\"),columns=(\"living\",\"parent\",\"child\"))\n",
    "classes_transf=load_obj(\"dictionary_classes\")\n",
    "hierclasses1=hier['living'].unique()\n",
    "hierclasses2=hier['parent'].unique()\n",
    "hierclasses3=hier['child'].unique()\n",
    "transfpos=2\n",
    "ImageFile.LOAD_TRUNCATED_IMAGES = True\n",
    "\n",
    "#transform=transforms.Compose([transforms.Normalize((0.5, 0.5, 0.5), (0.5, 0.5, 0.5))])"
   ]
  },
  {
   "cell_type": "markdown",
   "metadata": {},
   "source": [
    "# Dataset Class #"
   ]
  },
  {
   "cell_type": "code",
   "execution_count": 4,
   "metadata": {},
   "outputs": [],
   "source": [
    "class plancton3DDataset(data.Dataset):\n",
    "    \"\"\"Dataset Class for loading Gif into a 3D Tensor\"\"\"\n",
    "    def __init__(self,gifList,rootDir, channels,  timeDepth, xSize, ySize, \n",
    "                 startFrame,endFrame,numFilters,filters,keys,classes_transf,transfpos,transform=None):\n",
    "        \"\"\"\n",
    "        Args:\n",
    "        clipsList (string): Path to the clipsList file with labels.\n",
    "        rootDir (string): Directory with all the 3D Images.\n",
    "        transform (callable, optional): Optional transform to be applied\n",
    "            on a sample.\n",
    "        channels: Number of channels of frames\n",
    "        timeDepth: Number of frames to be loaded in a sample to construct the 3D Matrix\n",
    "        xSize, ySize: Dimensions of the frames\n",
    "        startFrame,endFrame: first and last frame from the original gif\n",
    "        filters: numbers of filters that you would input\n",
    "        classes_trans: Transformation from folder name to class name\n",
    "        transfpos: hierarchy to apply as output (0 is 'living' and 'not living')\n",
    "        transform: transformation to apply to the frames\n",
    "        \"\"\"\n",
    "        self.gifList = gifList\n",
    "        self.rootDir = rootDir\n",
    "        self.channels = channels\n",
    "        self.timeDepth = timeDepth\n",
    "        self.xSize = xSize\n",
    "        self.ySize = ySize\n",
    "        #self.mean = mean\n",
    "        self.transform = transform\n",
    "        self.startFrame=startFrame\n",
    "        self.endFrame=endFrame\n",
    "        self.numFilters=numFilters\n",
    "        self.keys=keys\n",
    "        #self.keys= pd.read_csv(\"../plancton_species.csv\",delimiter=\";\",header=0,names =(\"0\"))\n",
    "        self.classes =[d for d in self.keys]\n",
    "        self.classes.sort()\n",
    "        self.class_to_idx = {self.classes[i]: i for i in range(len(self.classes))}\n",
    "        self.filters=filters\n",
    "        self.classes_transf=classes_transf\n",
    "        self.transfpos=transfpos\n",
    "\n",
    "    def __len__(self):\n",
    "        return len(self.gifList)\n",
    "    \n",
    "    def crop6(self,im):\n",
    "        number_of_cols=3\n",
    "        W=im.width\n",
    "        H=im.height\n",
    "        w=(W-16)/3\n",
    "        h=(H-24)/2\n",
    "        images=[]\n",
    "        w1=0\n",
    "        w2=w\n",
    "        for i in range(number_of_cols):\n",
    "            im1=im.crop((w1, 0, w2, h))\n",
    "            images.append(im1)\n",
    "            im1=im.crop((w1, h+8, w2, 2*h+8))\n",
    "            images.append(im1)\n",
    "            w1=w2+8\n",
    "            w2=w2+w+8\n",
    "        return images\n",
    "    \n",
    "    def readGif(self, gifFile):\n",
    "        # Open the gif file, crop it and return the frames in a tensor\n",
    "        image_gif=Image.open(gifFile, mode='r')\n",
    "        width, height = image_gif.size\n",
    "        w=(width-16)/3\n",
    "        h=(height-24)/2\n",
    "        #frames = torch.FloatTensor(self.numFilters,self.timeDepth,  \n",
    "        #                            self.xSize, self.ySize)\n",
    "        \n",
    "        frames=np.zeros((self.numFilters,self.timeDepth,int(h), int(w)))\n",
    "        nframes = 0\n",
    "        nframesin=0\n",
    "\n",
    "        while image_gif:\n",
    "            if self.startFrame<=nframes<=self.endFrame:\n",
    "                six_images=self.crop6(image_gif)\n",
    "                for ifilter in range(self.numFilters):\n",
    "                    realfilter=self.filters[ifilter]\n",
    "                    if self.channels == 3: pil_image = six_images[realfilter].convert(\"RGB\")\n",
    "                    if self.channels == 1: pil_image = six_images[realfilter].convert(\"L\") \n",
    "                    frame = np.asarray(pil_image).astype(np.float32)   \n",
    "                    frames[ifilter,nframes, :, :] = frame\n",
    "                nframesin+=1\n",
    "            nframes += 1\n",
    "            try:\n",
    "                image_gif.seek( nframes )\n",
    "            except EOFError:\n",
    "                break;\n",
    "            \n",
    "        image_gif.close()\n",
    "        return frames\n",
    "    \n",
    "\n",
    "    def __getitem__(self, idx):\n",
    "        file,folder,typeplan=self.gifList.iloc[idx]\n",
    "        typeplan=self.classes_transf[folder][self.transfpos]\n",
    "        gifFile= os.path.join(self.rootDir, os.path.join(folder,file))\n",
    "        clip = self.readGif(gifFile)\n",
    "        if self.transform:\n",
    "            clip = self.transform(clip)\n",
    "        return clip,self.class_to_idx[typeplan]"
   ]
  },
  {
   "cell_type": "markdown",
   "metadata": {},
   "source": [
    "## Transformation ##"
   ]
  },
  {
   "cell_type": "code",
   "execution_count": 5,
   "metadata": {},
   "outputs": [],
   "source": [
    "## Transormations ##\n",
    "   \n",
    "class Rescale(object):\n",
    "    \"\"\"Rescale the 3 3D images in a sample to a given size.\n",
    "    Args:\n",
    "        output_size (tuple or int): Desired output size of widht ad height (Lenght stays the same) \n",
    "    \"\"\"\n",
    "    def __init__(self, output_size):\n",
    "        assert isinstance(output_size, (int, tuple))\n",
    "        if isinstance(output_size, int):\n",
    "            self.output_size = (output_size, output_size)\n",
    "        else:\n",
    "            assert len(output_size) == 2\n",
    "            self.output_size = output_size\n",
    "            \n",
    "    def __call__(self, sample):\n",
    "        image=sample\n",
    "    \n",
    "        c,f,h, w = image.shape\n",
    "        \n",
    "        if isinstance(self.output_size, int):\n",
    "            if h > w:\n",
    "                new_h, new_w = self.output_size * h / w, self.output_size\n",
    "            else:\n",
    "                new_h, new_w = self.output_size, self.output_size * w / h\n",
    "        else:\n",
    "            new_h, new_w = self.output_size\n",
    "            \n",
    "        \n",
    "        new_h, new_w = int(new_h), int(new_w)\n",
    "        #Generate a resize\n",
    "        frames=np.zeros((c,f,new_h, new_w))\n",
    "        for c_i in range(c):\n",
    "            for f_i in range(f):\n",
    "                new_image=transform.resize(image[c_i,f_i,:,:],(new_h, new_w))\n",
    "                frames [c_i,f_i,:,:]=new_image\n",
    "        \n",
    "        return frames\n",
    "\n",
    "class RandomCrop(object):\n",
    "    \"\"\"Crop randomly the 3D image in a sample, using the same crop for all filters and frames\n",
    "    \n",
    "    Args:\n",
    "        output_size (tuple or int): Desired output size of each frame of each filter. If int, square crop\n",
    "            is made.\n",
    "    \"\"\"\n",
    "    def __init__(self, output_size):\n",
    "        assert isinstance(output_size, (int, tuple))\n",
    "        if isinstance(output_size, int):\n",
    "            self.output_size = (output_size, output_size)\n",
    "        else:\n",
    "            assert len(output_size) == 2\n",
    "            self.output_size = output_size\n",
    "    \n",
    "    def __call__(self, sample):\n",
    "        image= sample\n",
    "        \n",
    "        c,f,h, w = image.shape\n",
    "        new_h, new_w = self.output_size      \n",
    "        top = np.random.randint(0, abs(h - new_h))\n",
    "        left = np.random.randint(0, abs(w - new_w))\n",
    "        frames = image[:,:,top: top + new_h,left: left + new_w]\n",
    "        return frames\n",
    "    \n",
    "class Normalize(object):\n",
    "    \"\"\"Normalize the 3 filters \n",
    "    \n",
    "    Args:\n",
    "        output_size (tuple or int): Desired output size of each frame of each filter. If int, square crop\n",
    "            is made.\n",
    "    \"\"\"\n",
    "    def __init__(self, mean, stddev):\n",
    "        self.mean = mean\n",
    "        self.stddev= stddev\n",
    "    \n",
    "    def __call__(self, sample):\n",
    "        image= sample\n",
    "        \n",
    "        c,f,h, w = image.shape\n",
    "        for c_i in range(c):\n",
    "             image[c_i,:,:,:]=(image[c_i,:,:,:] - self.mean[c_i])/self.stddev[c_i]\n",
    "        return image\n",
    "    \n",
    "class RandomRotate(object):\n",
    "    \"\"\" Rotate 90/180/270 degrees all filters\"\"\"\n",
    "    def __init__(self):\n",
    "        \n",
    "        self.degrees=list([0,90,180,270])\n",
    "        \n",
    "    \n",
    "    def __call__ (self,sample):\n",
    "        c,f,h, w = sample.shape\n",
    "        choice=random.choice(self.degrees)\n",
    "        if choice==90:\n",
    "            frames=np.zeros((c,f,w, h))\n",
    "            for c_i in range(c):\n",
    "                for f_i in range(f):\n",
    "                    frames[c_i,f_i,:,:]= np.rot90(sample[c_i,f_i,:,:])\n",
    "            return frames       \n",
    "            #rotate 90 degrees\n",
    "        elif choice==180:\n",
    "            #rotate 180 degrees\n",
    "            frames=np.zeros((c,f,h, w))\n",
    "            for c_i in range(c):\n",
    "                for f_i in range(f):\n",
    "                    frames[c_i,f_i,:,:]= np.rot90(sample[c_i,f_i,:,:],2)\n",
    "            return frames\n",
    "        elif choice==270:\n",
    "            frames=np.zeros((c,f,w, h))\n",
    "            for c_i in range(c):\n",
    "                for f_i in range(f):\n",
    "                    frames[c_i,f_i,:,:]= np.rot90(sample[c_i,f_i,:,:],-1)\n",
    "            return frames\n",
    "        else:\n",
    "            return sample\n",
    "            #rotate 270 degrees\n",
    "            \n",
    "class RandomFlip(object):        \n",
    "    def __init__(self):\n",
    "        self.direction=list([\"Nothing\",\"LRDirection\",\"UDDirection\"])\n",
    "        \n",
    "    def __call__ (self,sample):\n",
    "        c,f,h, w = sample.shape\n",
    "        choice=random.choice(self.direction)\n",
    "        if choice == \"Nothing\":\n",
    "            #Do nothing\n",
    "            return sample\n",
    "        elif choice==\"LRDirection\":\n",
    "            frames=np.zeros((c,f,h, w))\n",
    "            for c_i in range(c):\n",
    "                for f_i in range(f):\n",
    "                    frames[c_i,f_i,:,:]= np.fliplr(sample[c_i,f_i,:,:])\n",
    "            return frames\n",
    "        elif choice==\"UDDirection\":\n",
    "            frames=np.zeros((c,f,h,w))\n",
    "            for c_i in range(c):\n",
    "                for f_i in range(f):\n",
    "                    frames[c_i,f_i,:,:]= np.flipud(sample[c_i,f_i,:,:])\n",
    "            return frames\n",
    "            \n",
    "        \n",
    "                \n",
    "class ToTensor(object):\n",
    "    \"\"\"Convert ndarrays in sample to Tensors.\"\"\"\n",
    "    def __call__(self, sample):\n",
    "\n",
    "        return torch.from_numpy(np.asarray(sample).astype(np.float32))  \n",
    "    "
   ]
  },
  {
   "cell_type": "markdown",
   "metadata": {},
   "source": [
    "We are going to keep the top right image of all gifs and resize to a 100x100x3 tensor."
   ]
  },
  {
   "cell_type": "code",
   "execution_count": 177,
   "metadata": {},
   "outputs": [],
   "source": [
    "\n",
    "gifListFile=\"../plancton-train.csv\";rootDir=\"../taraImages/\";\n",
    "channels=1;timeDepth=16;xSize=112;ySize=112;startFrame=0;endFrame=15;numFilters=3;Filters=[2,3,4]"
   ]
  },
  {
   "cell_type": "markdown",
   "metadata": {},
   "source": [
    "### Testing Reading and writing a Gif ##"
   ]
  },
  {
   "cell_type": "markdown",
   "metadata": {},
   "source": [
    "### Original Image"
   ]
  },
  {
   "cell_type": "code",
   "execution_count": 7,
   "metadata": {
    "scrolled": true
   },
   "outputs": [],
   "source": [
    "#pdataset=plancton3DDataset(gifListFile,rootDir,channels,timeDepth,xSize,ySize,startFrame,\n",
    "#                          endFrame,numFilters,Filters,hierclasses1,classes_transf,transfpos,transform=compose)\n"
   ]
  },
  {
   "cell_type": "markdown",
   "metadata": {},
   "source": [
    "<img src=\"../taraImages/artefact_bubble/10755960_S125--D3--R27--G100010731--A130823--L01009--animation.gif\" width=\"300\">"
   ]
  },
  {
   "cell_type": "markdown",
   "metadata": {},
   "source": [
    "### Use train and test files created in ``Train Test text file``  to import files into the Class"
   ]
  },
  {
   "cell_type": "code",
   "execution_count": 6,
   "metadata": {},
   "outputs": [],
   "source": [
    "log_dir=\"../logs/\"\n",
    "trainset=\"../plancton-train.csv\"\n",
    "testset=\"../plancton-test.csv\"\n",
    "trainlist=pd.read_csv(trainset,delimiter=\";\",header=1,names =(\"file\",\"folder\",\"type\"))\n",
    "testlist=pd.read_csv(testset,delimiter=\";\",header=1,names =(\"file\",\"folder\",\"type\"))\n"
   ]
  },
  {
   "cell_type": "markdown",
   "metadata": {},
   "source": [
    "## Calculate Mean and StdDev ##"
   ]
  },
  {
   "cell_type": "code",
   "execution_count": 10,
   "metadata": {},
   "outputs": [],
   "source": [
    "testlist1=testlist"
   ]
  },
  {
   "cell_type": "code",
   "execution_count": 15,
   "metadata": {},
   "outputs": [],
   "source": [
    "composeT=transforms.Compose([Rescale(112),\n",
    "                                ToTensor()])\n",
    "try_batch_size=1000\n",
    "train_loader = data.DataLoader(plancton3DDataset(gifList=trainlist,\n",
    "                                          rootDir=\"../taraImages/\",\n",
    "                                          channels=1,timeDepth=16,xSize=112,ySize=112,\n",
    "                                          startFrame=0,endFrame=15,numFilters=5,filters=[0,1,2,3,4],\n",
    "                                          keys=hierclasses3,classes_transf=classes_transf,transfpos=2,transform=composeT), \n",
    "                               batch_size=try_batch_size, shuffle=True, collate_fn=ucf_collate, **kwargs)\n",
    "val_loader = data.DataLoader(plancton3DDataset(gifList=testlist,\n",
    "                                          rootDir=\"../taraImages/\",\n",
    "                                          channels=1,timeDepth=16,xSize=112,ySize=112,\n",
    "                                          startFrame=0,endFrame=15,numFilters=5,filters=[0,1,2,3,4],\n",
    "                                          keys=hierclasses3,classes_transf=classes_transf,transfpos=2,transform=composeT), \n",
    "                              batch_size=try_batch_size, shuffle=True, collate_fn=ucf_collate, **kwargs)"
   ]
  },
  {
   "cell_type": "code",
   "execution_count": 16,
   "metadata": {
    "scrolled": true
   },
   "outputs": [
    {
     "data": {
      "application/vnd.jupyter.widget-view+json": {
       "model_id": "6a0fd78210334a23aa27fb1e55e7f49a",
       "version_major": 2,
       "version_minor": 0
      },
      "text/plain": [
       "HBox(children=(IntProgress(value=1, bar_style='info', max=1), HTML(value='')))"
      ]
     },
     "metadata": {},
     "output_type": "display_data"
    },
    {
     "ename": "KeyboardInterrupt",
     "evalue": "",
     "output_type": "error",
     "traceback": [
      "\u001b[0;31m----------------------------------------------------------------------\u001b[0m",
      "\u001b[0;31mKeyboardInterrupt\u001b[0m                    Traceback (most recent call last)",
      "\u001b[0;32m<ipython-input-16-c4433cb9b409>\u001b[0m in \u001b[0;36m<module>\u001b[0;34m()\u001b[0m\n\u001b[1;32m      3\u001b[0m \u001b[0;34m\u001b[0m\u001b[0m\n\u001b[1;32m      4\u001b[0m \u001b[0mnobs\u001b[0m\u001b[0;34m=\u001b[0m\u001b[0;36m0\u001b[0m\u001b[0;34m\u001b[0m\u001b[0m\n\u001b[0;32m----> 5\u001b[0;31m \u001b[0;32mfor\u001b[0m \u001b[0mbatch_idx\u001b[0m\u001b[0;34m,\u001b[0m \u001b[0;34m(\u001b[0m\u001b[0mdatax\u001b[0m\u001b[0;34m,\u001b[0m \u001b[0mtarget\u001b[0m\u001b[0;34m)\u001b[0m \u001b[0;32min\u001b[0m \u001b[0mtqdm_notebook\u001b[0m\u001b[0;34m(\u001b[0m\u001b[0menumerate\u001b[0m\u001b[0;34m(\u001b[0m\u001b[0mval_loader\u001b[0m\u001b[0;34m)\u001b[0m\u001b[0;34m)\u001b[0m\u001b[0;34m:\u001b[0m\u001b[0;34m\u001b[0m\u001b[0m\n\u001b[0m\u001b[1;32m      6\u001b[0m     \u001b[0ms\u001b[0m\u001b[0;34m,\u001b[0m\u001b[0mc\u001b[0m\u001b[0;34m,\u001b[0m\u001b[0mf\u001b[0m\u001b[0;34m,\u001b[0m\u001b[0mw\u001b[0m\u001b[0;34m,\u001b[0m\u001b[0mh\u001b[0m\u001b[0;34m=\u001b[0m\u001b[0mdatax\u001b[0m\u001b[0;34m.\u001b[0m\u001b[0msize\u001b[0m\u001b[0;34m(\u001b[0m\u001b[0;34m)\u001b[0m\u001b[0;34m\u001b[0m\u001b[0m\n\u001b[1;32m      7\u001b[0m     \u001b[0;31m#Calculate mean and std per channel\u001b[0m\u001b[0;34m\u001b[0m\u001b[0;34m\u001b[0m\u001b[0m\n",
      "\u001b[0;32m~/anaconda3/lib/python3.6/site-packages/tqdm/_tqdm_notebook.py\u001b[0m in \u001b[0;36m__iter__\u001b[0;34m(self, *args, **kwargs)\u001b[0m\n\u001b[1;32m    199\u001b[0m     \u001b[0;32mdef\u001b[0m \u001b[0m__iter__\u001b[0m\u001b[0;34m(\u001b[0m\u001b[0mself\u001b[0m\u001b[0;34m,\u001b[0m \u001b[0;34m*\u001b[0m\u001b[0margs\u001b[0m\u001b[0;34m,\u001b[0m \u001b[0;34m**\u001b[0m\u001b[0mkwargs\u001b[0m\u001b[0;34m)\u001b[0m\u001b[0;34m:\u001b[0m\u001b[0;34m\u001b[0m\u001b[0m\n\u001b[1;32m    200\u001b[0m         \u001b[0;32mtry\u001b[0m\u001b[0;34m:\u001b[0m\u001b[0;34m\u001b[0m\u001b[0m\n\u001b[0;32m--> 201\u001b[0;31m             \u001b[0;32mfor\u001b[0m \u001b[0mobj\u001b[0m \u001b[0;32min\u001b[0m \u001b[0msuper\u001b[0m\u001b[0;34m(\u001b[0m\u001b[0mtqdm_notebook\u001b[0m\u001b[0;34m,\u001b[0m \u001b[0mself\u001b[0m\u001b[0;34m)\u001b[0m\u001b[0;34m.\u001b[0m\u001b[0m__iter__\u001b[0m\u001b[0;34m(\u001b[0m\u001b[0;34m*\u001b[0m\u001b[0margs\u001b[0m\u001b[0;34m,\u001b[0m \u001b[0;34m**\u001b[0m\u001b[0mkwargs\u001b[0m\u001b[0;34m)\u001b[0m\u001b[0;34m:\u001b[0m\u001b[0;34m\u001b[0m\u001b[0m\n\u001b[0m\u001b[1;32m    202\u001b[0m                 \u001b[0;31m# return super(tqdm...) will not catch exception\u001b[0m\u001b[0;34m\u001b[0m\u001b[0;34m\u001b[0m\u001b[0m\n\u001b[1;32m    203\u001b[0m                 \u001b[0;32myield\u001b[0m \u001b[0mobj\u001b[0m\u001b[0;34m\u001b[0m\u001b[0m\n",
      "\u001b[0;32m~/anaconda3/lib/python3.6/site-packages/tqdm/_tqdm.py\u001b[0m in \u001b[0;36m__iter__\u001b[0;34m(self)\u001b[0m\n\u001b[1;32m    928\u001b[0m \"\"\", fp_write=getattr(self.fp, 'write', sys.stderr.write))\n\u001b[1;32m    929\u001b[0m \u001b[0;34m\u001b[0m\u001b[0m\n\u001b[0;32m--> 930\u001b[0;31m             \u001b[0;32mfor\u001b[0m \u001b[0mobj\u001b[0m \u001b[0;32min\u001b[0m \u001b[0miterable\u001b[0m\u001b[0;34m:\u001b[0m\u001b[0;34m\u001b[0m\u001b[0m\n\u001b[0m\u001b[1;32m    931\u001b[0m                 \u001b[0;32myield\u001b[0m \u001b[0mobj\u001b[0m\u001b[0;34m\u001b[0m\u001b[0m\n\u001b[1;32m    932\u001b[0m                 \u001b[0;31m# Update and possibly print the progressbar.\u001b[0m\u001b[0;34m\u001b[0m\u001b[0;34m\u001b[0m\u001b[0m\n",
      "\u001b[0;32m~/anaconda3/lib/python3.6/site-packages/torch/utils/data/dataloader.py\u001b[0m in \u001b[0;36m__next__\u001b[0;34m(self)\u001b[0m\n\u001b[1;32m    262\u001b[0m         \u001b[0;32mif\u001b[0m \u001b[0mself\u001b[0m\u001b[0;34m.\u001b[0m\u001b[0mnum_workers\u001b[0m \u001b[0;34m==\u001b[0m \u001b[0;36m0\u001b[0m\u001b[0;34m:\u001b[0m  \u001b[0;31m# same-process loading\u001b[0m\u001b[0;34m\u001b[0m\u001b[0m\n\u001b[1;32m    263\u001b[0m             \u001b[0mindices\u001b[0m \u001b[0;34m=\u001b[0m \u001b[0mnext\u001b[0m\u001b[0;34m(\u001b[0m\u001b[0mself\u001b[0m\u001b[0;34m.\u001b[0m\u001b[0msample_iter\u001b[0m\u001b[0;34m)\u001b[0m  \u001b[0;31m# may raise StopIteration\u001b[0m\u001b[0;34m\u001b[0m\u001b[0m\n\u001b[0;32m--> 264\u001b[0;31m             \u001b[0mbatch\u001b[0m \u001b[0;34m=\u001b[0m \u001b[0mself\u001b[0m\u001b[0;34m.\u001b[0m\u001b[0mcollate_fn\u001b[0m\u001b[0;34m(\u001b[0m\u001b[0;34m[\u001b[0m\u001b[0mself\u001b[0m\u001b[0;34m.\u001b[0m\u001b[0mdataset\u001b[0m\u001b[0;34m[\u001b[0m\u001b[0mi\u001b[0m\u001b[0;34m]\u001b[0m \u001b[0;32mfor\u001b[0m \u001b[0mi\u001b[0m \u001b[0;32min\u001b[0m \u001b[0mindices\u001b[0m\u001b[0;34m]\u001b[0m\u001b[0;34m)\u001b[0m\u001b[0;34m\u001b[0m\u001b[0m\n\u001b[0m\u001b[1;32m    265\u001b[0m             \u001b[0;32mif\u001b[0m \u001b[0mself\u001b[0m\u001b[0;34m.\u001b[0m\u001b[0mpin_memory\u001b[0m\u001b[0;34m:\u001b[0m\u001b[0;34m\u001b[0m\u001b[0m\n\u001b[1;32m    266\u001b[0m                 \u001b[0mbatch\u001b[0m \u001b[0;34m=\u001b[0m \u001b[0mpin_memory_batch\u001b[0m\u001b[0;34m(\u001b[0m\u001b[0mbatch\u001b[0m\u001b[0;34m)\u001b[0m\u001b[0;34m\u001b[0m\u001b[0m\n",
      "\u001b[0;32m~/anaconda3/lib/python3.6/site-packages/torch/utils/data/dataloader.py\u001b[0m in \u001b[0;36m<listcomp>\u001b[0;34m(.0)\u001b[0m\n\u001b[1;32m    262\u001b[0m         \u001b[0;32mif\u001b[0m \u001b[0mself\u001b[0m\u001b[0;34m.\u001b[0m\u001b[0mnum_workers\u001b[0m \u001b[0;34m==\u001b[0m \u001b[0;36m0\u001b[0m\u001b[0;34m:\u001b[0m  \u001b[0;31m# same-process loading\u001b[0m\u001b[0;34m\u001b[0m\u001b[0m\n\u001b[1;32m    263\u001b[0m             \u001b[0mindices\u001b[0m \u001b[0;34m=\u001b[0m \u001b[0mnext\u001b[0m\u001b[0;34m(\u001b[0m\u001b[0mself\u001b[0m\u001b[0;34m.\u001b[0m\u001b[0msample_iter\u001b[0m\u001b[0;34m)\u001b[0m  \u001b[0;31m# may raise StopIteration\u001b[0m\u001b[0;34m\u001b[0m\u001b[0m\n\u001b[0;32m--> 264\u001b[0;31m             \u001b[0mbatch\u001b[0m \u001b[0;34m=\u001b[0m \u001b[0mself\u001b[0m\u001b[0;34m.\u001b[0m\u001b[0mcollate_fn\u001b[0m\u001b[0;34m(\u001b[0m\u001b[0;34m[\u001b[0m\u001b[0mself\u001b[0m\u001b[0;34m.\u001b[0m\u001b[0mdataset\u001b[0m\u001b[0;34m[\u001b[0m\u001b[0mi\u001b[0m\u001b[0;34m]\u001b[0m \u001b[0;32mfor\u001b[0m \u001b[0mi\u001b[0m \u001b[0;32min\u001b[0m \u001b[0mindices\u001b[0m\u001b[0;34m]\u001b[0m\u001b[0;34m)\u001b[0m\u001b[0;34m\u001b[0m\u001b[0m\n\u001b[0m\u001b[1;32m    265\u001b[0m             \u001b[0;32mif\u001b[0m \u001b[0mself\u001b[0m\u001b[0;34m.\u001b[0m\u001b[0mpin_memory\u001b[0m\u001b[0;34m:\u001b[0m\u001b[0;34m\u001b[0m\u001b[0m\n\u001b[1;32m    266\u001b[0m                 \u001b[0mbatch\u001b[0m \u001b[0;34m=\u001b[0m \u001b[0mpin_memory_batch\u001b[0m\u001b[0;34m(\u001b[0m\u001b[0mbatch\u001b[0m\u001b[0;34m)\u001b[0m\u001b[0;34m\u001b[0m\u001b[0m\n",
      "\u001b[0;32m<ipython-input-4-1d95a3ec21ec>\u001b[0m in \u001b[0;36m__getitem__\u001b[0;34m(self, idx)\u001b[0m\n\u001b[1;32m     98\u001b[0m         \u001b[0mclip\u001b[0m \u001b[0;34m=\u001b[0m \u001b[0mself\u001b[0m\u001b[0;34m.\u001b[0m\u001b[0mreadGif\u001b[0m\u001b[0;34m(\u001b[0m\u001b[0mgifFile\u001b[0m\u001b[0;34m)\u001b[0m\u001b[0;34m\u001b[0m\u001b[0m\n\u001b[1;32m     99\u001b[0m         \u001b[0;32mif\u001b[0m \u001b[0mself\u001b[0m\u001b[0;34m.\u001b[0m\u001b[0mtransform\u001b[0m\u001b[0;34m:\u001b[0m\u001b[0;34m\u001b[0m\u001b[0m\n\u001b[0;32m--> 100\u001b[0;31m             \u001b[0mclip\u001b[0m \u001b[0;34m=\u001b[0m \u001b[0mself\u001b[0m\u001b[0;34m.\u001b[0m\u001b[0mtransform\u001b[0m\u001b[0;34m(\u001b[0m\u001b[0mclip\u001b[0m\u001b[0;34m)\u001b[0m\u001b[0;34m\u001b[0m\u001b[0m\n\u001b[0m\u001b[1;32m    101\u001b[0m         \u001b[0;32mreturn\u001b[0m \u001b[0mclip\u001b[0m\u001b[0;34m,\u001b[0m\u001b[0mself\u001b[0m\u001b[0;34m.\u001b[0m\u001b[0mclass_to_idx\u001b[0m\u001b[0;34m[\u001b[0m\u001b[0mtypeplan\u001b[0m\u001b[0;34m]\u001b[0m\u001b[0;34m\u001b[0m\u001b[0m\n",
      "\u001b[0;32m~/anaconda3/lib/python3.6/site-packages/torchvision-0.2.1-py3.6.egg/torchvision/transforms/transforms.py\u001b[0m in \u001b[0;36m__call__\u001b[0;34m(self, img)\u001b[0m\n\u001b[1;32m     47\u001b[0m     \u001b[0;32mdef\u001b[0m \u001b[0m__call__\u001b[0m\u001b[0;34m(\u001b[0m\u001b[0mself\u001b[0m\u001b[0;34m,\u001b[0m \u001b[0mimg\u001b[0m\u001b[0;34m)\u001b[0m\u001b[0;34m:\u001b[0m\u001b[0;34m\u001b[0m\u001b[0m\n\u001b[1;32m     48\u001b[0m         \u001b[0;32mfor\u001b[0m \u001b[0mt\u001b[0m \u001b[0;32min\u001b[0m \u001b[0mself\u001b[0m\u001b[0;34m.\u001b[0m\u001b[0mtransforms\u001b[0m\u001b[0;34m:\u001b[0m\u001b[0;34m\u001b[0m\u001b[0m\n\u001b[0;32m---> 49\u001b[0;31m             \u001b[0mimg\u001b[0m \u001b[0;34m=\u001b[0m \u001b[0mt\u001b[0m\u001b[0;34m(\u001b[0m\u001b[0mimg\u001b[0m\u001b[0;34m)\u001b[0m\u001b[0;34m\u001b[0m\u001b[0m\n\u001b[0m\u001b[1;32m     50\u001b[0m         \u001b[0;32mreturn\u001b[0m \u001b[0mimg\u001b[0m\u001b[0;34m\u001b[0m\u001b[0m\n\u001b[1;32m     51\u001b[0m \u001b[0;34m\u001b[0m\u001b[0m\n",
      "\u001b[0;32m<ipython-input-5-a1131ca35e8a>\u001b[0m in \u001b[0;36m__call__\u001b[0;34m(self, sample)\u001b[0m\n\u001b[1;32m     33\u001b[0m         \u001b[0;32mfor\u001b[0m \u001b[0mc_i\u001b[0m \u001b[0;32min\u001b[0m \u001b[0mrange\u001b[0m\u001b[0;34m(\u001b[0m\u001b[0mc\u001b[0m\u001b[0;34m)\u001b[0m\u001b[0;34m:\u001b[0m\u001b[0;34m\u001b[0m\u001b[0m\n\u001b[1;32m     34\u001b[0m             \u001b[0;32mfor\u001b[0m \u001b[0mf_i\u001b[0m \u001b[0;32min\u001b[0m \u001b[0mrange\u001b[0m\u001b[0;34m(\u001b[0m\u001b[0mf\u001b[0m\u001b[0;34m)\u001b[0m\u001b[0;34m:\u001b[0m\u001b[0;34m\u001b[0m\u001b[0m\n\u001b[0;32m---> 35\u001b[0;31m                 \u001b[0mnew_image\u001b[0m\u001b[0;34m=\u001b[0m\u001b[0mtransform\u001b[0m\u001b[0;34m.\u001b[0m\u001b[0mresize\u001b[0m\u001b[0;34m(\u001b[0m\u001b[0mimage\u001b[0m\u001b[0;34m[\u001b[0m\u001b[0mc_i\u001b[0m\u001b[0;34m,\u001b[0m\u001b[0mf_i\u001b[0m\u001b[0;34m,\u001b[0m\u001b[0;34m:\u001b[0m\u001b[0;34m,\u001b[0m\u001b[0;34m:\u001b[0m\u001b[0;34m]\u001b[0m\u001b[0;34m,\u001b[0m\u001b[0;34m(\u001b[0m\u001b[0mnew_h\u001b[0m\u001b[0;34m,\u001b[0m \u001b[0mnew_w\u001b[0m\u001b[0;34m)\u001b[0m\u001b[0;34m)\u001b[0m\u001b[0;34m\u001b[0m\u001b[0m\n\u001b[0m\u001b[1;32m     36\u001b[0m                 \u001b[0mframes\u001b[0m \u001b[0;34m[\u001b[0m\u001b[0mc_i\u001b[0m\u001b[0;34m,\u001b[0m\u001b[0mf_i\u001b[0m\u001b[0;34m,\u001b[0m\u001b[0;34m:\u001b[0m\u001b[0;34m,\u001b[0m\u001b[0;34m:\u001b[0m\u001b[0;34m]\u001b[0m\u001b[0;34m=\u001b[0m\u001b[0mnew_image\u001b[0m\u001b[0;34m\u001b[0m\u001b[0m\n\u001b[1;32m     37\u001b[0m \u001b[0;34m\u001b[0m\u001b[0m\n",
      "\u001b[0;32m~/anaconda3/lib/python3.6/site-packages/skimage/transform/_warps.py\u001b[0m in \u001b[0;36mresize\u001b[0;34m(image, output_shape, order, mode, cval, clip, preserve_range)\u001b[0m\n\u001b[1;32m    133\u001b[0m         out = warp(image, tform, output_shape=output_shape, order=order,\n\u001b[1;32m    134\u001b[0m                    \u001b[0mmode\u001b[0m\u001b[0;34m=\u001b[0m\u001b[0mmode\u001b[0m\u001b[0;34m,\u001b[0m \u001b[0mcval\u001b[0m\u001b[0;34m=\u001b[0m\u001b[0mcval\u001b[0m\u001b[0;34m,\u001b[0m \u001b[0mclip\u001b[0m\u001b[0;34m=\u001b[0m\u001b[0mclip\u001b[0m\u001b[0;34m,\u001b[0m\u001b[0;34m\u001b[0m\u001b[0m\n\u001b[0;32m--> 135\u001b[0;31m                    preserve_range=preserve_range)\n\u001b[0m\u001b[1;32m    136\u001b[0m \u001b[0;34m\u001b[0m\u001b[0m\n\u001b[1;32m    137\u001b[0m     \u001b[0;32mreturn\u001b[0m \u001b[0mout\u001b[0m\u001b[0;34m\u001b[0m\u001b[0m\n",
      "\u001b[0;32m~/anaconda3/lib/python3.6/site-packages/skimage/transform/_warps.py\u001b[0m in \u001b[0;36mwarp\u001b[0;34m(image, inverse_map, map_args, output_shape, order, mode, cval, clip, preserve_range)\u001b[0m\n\u001b[1;32m    767\u001b[0m                 warped = _warp_fast(image, matrix,\n\u001b[1;32m    768\u001b[0m                                  \u001b[0moutput_shape\u001b[0m\u001b[0;34m=\u001b[0m\u001b[0moutput_shape\u001b[0m\u001b[0;34m,\u001b[0m\u001b[0;34m\u001b[0m\u001b[0m\n\u001b[0;32m--> 769\u001b[0;31m                                  order=order, mode=mode, cval=cval)\n\u001b[0m\u001b[1;32m    770\u001b[0m             \u001b[0;32melif\u001b[0m \u001b[0mimage\u001b[0m\u001b[0;34m.\u001b[0m\u001b[0mndim\u001b[0m \u001b[0;34m==\u001b[0m \u001b[0;36m3\u001b[0m\u001b[0;34m:\u001b[0m\u001b[0;34m\u001b[0m\u001b[0m\n\u001b[1;32m    771\u001b[0m                 \u001b[0mdims\u001b[0m \u001b[0;34m=\u001b[0m \u001b[0;34m[\u001b[0m\u001b[0;34m]\u001b[0m\u001b[0;34m\u001b[0m\u001b[0m\n",
      "\u001b[0;32mskimage/transform/_warps_cy.pyx\u001b[0m in \u001b[0;36mskimage.transform._warps_cy._warp_fast (skimage/transform/_warps_cy.c:2637)\u001b[0;34m()\u001b[0m\n",
      "\u001b[0;32m~/anaconda3/lib/python3.6/site-packages/numpy/core/numeric.py\u001b[0m in \u001b[0;36masarray\u001b[0;34m(a, dtype, order)\u001b[0m\n\u001b[1;32m    422\u001b[0m \u001b[0;34m\u001b[0m\u001b[0m\n\u001b[1;32m    423\u001b[0m \u001b[0;34m\u001b[0m\u001b[0m\n\u001b[0;32m--> 424\u001b[0;31m \u001b[0;32mdef\u001b[0m \u001b[0masarray\u001b[0m\u001b[0;34m(\u001b[0m\u001b[0ma\u001b[0m\u001b[0;34m,\u001b[0m \u001b[0mdtype\u001b[0m\u001b[0;34m=\u001b[0m\u001b[0;32mNone\u001b[0m\u001b[0;34m,\u001b[0m \u001b[0morder\u001b[0m\u001b[0;34m=\u001b[0m\u001b[0;32mNone\u001b[0m\u001b[0;34m)\u001b[0m\u001b[0;34m:\u001b[0m\u001b[0;34m\u001b[0m\u001b[0m\n\u001b[0m\u001b[1;32m    425\u001b[0m     \"\"\"Convert the input to an array.\n\u001b[1;32m    426\u001b[0m \u001b[0;34m\u001b[0m\u001b[0m\n",
      "\u001b[0;31mKeyboardInterrupt\u001b[0m: "
     ]
    }
   ],
   "source": [
    "g_mean_channel1=0;g_mean_channel2=0;g_mean_channel3=0;g_mean_channel4=0;g_mean_channel5=0\n",
    "g_std_channel1=0;g_std_channel2=0;g_std_channel3=0;g_std_channel4=0;g_std_channel5=0\n",
    "\n",
    "nobs=0\n",
    "for batch_idx, (datax, target) in tqdm_notebook(enumerate(val_loader)):\n",
    "    s,c,f,w,h=datax.size()\n",
    "    #Calculate mean and std per channel\n",
    "    mean_channel1=torch.mean(datax[:,0,:,:])\n",
    "    mean_channel2=torch.mean(datax[:,1,:,:])\n",
    "    mean_channel3=torch.mean(datax[:,2,:,:])\n",
    "    mean_channel4=torch.mean(datax[:,3,:,:])\n",
    "    mean_channel5=torch.mean(datax[:,4,:,:])\n",
    "    std_channel1=torch.std(datax[:,0,:,:])\n",
    "    std_channel2=torch.std(datax[:,1,:,:])\n",
    "    std_channel3=torch.std(datax[:,2,:,:])\n",
    "    std_channel4=torch.std(datax[:,3,:,:])\n",
    "    std_channel5=torch.std(datax[:,4,:,:])\n",
    "    m = nobs * 1.0\n",
    "    n = s\n",
    "    tmp = g_mean_channel1\n",
    "    g_mean_channel1 = m/(m+n)*tmp + n/(m+n)*mean_channel1\n",
    "    g_std_channel1  = np.sqrt(m/(m+n)*g_std_channel1**2 + n/(m+n)*std_channel1**2 +  m*n/(m+n)**2 * (tmp - mean_channel1)**2)\n",
    "    tmp = g_mean_channel2\n",
    "    g_mean_channel2 = m/(m+n)*tmp + n/(m+n)*mean_channel2\n",
    "    g_std_channel2  = np.sqrt(m/(m+n)*g_std_channel2**2 + n/(m+n)*std_channel2**2 +  m*n/(m+n)**2 * (tmp - mean_channel2)**2)\n",
    "    tmp = g_mean_channel3\n",
    "    g_mean_channel3 = m/(m+n)*tmp + n/(m+n)*mean_channel3\n",
    "    g_std_channel3  = np.sqrt(m/(m+n)*g_std_channel3**2 + n/(m+n)*std_channel3**2 +  m*n/(m+n)**2 * (tmp - mean_channel3)**2)    \n",
    "    tmp = g_mean_channel4\n",
    "    g_mean_channel4 = m/(m+n)*tmp + n/(m+n)*mean_channel4\n",
    "    g_std_channel4  = np.sqrt(m/(m+n)*g_std_channel4**2 + n/(m+n)*std_channel4**2 +  m*n/(m+n)**2 * (tmp - mean_channel4)**2)    \n",
    "    tmp = g_mean_channel5\n",
    "    g_mean_channel5 = m/(m+n)*tmp + n/(m+n)*mean_channel5\n",
    "    g_std_channel5  = np.sqrt(m/(m+n)*g_std_channel5**2 + n/(m+n)*std_channel5**2 +  m*n/(m+n)**2 * (tmp - mean_channel5)**2)    \n",
    "    nobs+=n\n",
    "    \n",
    "print(\"mean Globals:\",g_mean_channel1,g_mean_channel2,g_mean_channel3)\n",
    "print(\"std Globals:\",g_std_channel1,g_std_channel2,g_std_channel3)   "
   ]
  },
  {
   "cell_type": "markdown",
   "metadata": {},
   "source": [
    "### Training mean and std ###\n",
    "mean: (252.9242,251.4343,156.3816)\n",
    "std: (7.7102,11.3070,66.3204)\n",
    "\n",
    "### Validation man and std ###\n",
    "mean: (252.9046,251.4320,156.2538)\n",
    "std: (7.9116,11.3310,66.1270)"
   ]
  },
  {
   "cell_type": "markdown",
   "metadata": {},
   "source": [
    "### Convertion Code ###\n",
    "\n",
    "With the Following Code we are able to Input the full image, retreive the original Image from the gif, export a Pytorch Tensor and with that Tensor export a Gif file if necessary."
   ]
  },
  {
   "cell_type": "code",
   "execution_count": 31,
   "metadata": {
    "scrolled": true
   },
   "outputs": [],
   "source": [
    "#tensor=pdataset.readGif(\"../taraImages/artefact_bubble/10755960_S125--D3--R27--G100010731--A130823--L01009--animation.gif\")\n",
    "#tensor.shape"
   ]
  },
  {
   "cell_type": "code",
   "execution_count": 8,
   "metadata": {},
   "outputs": [],
   "source": [
    "def ucf_collate(batch):\n",
    "    label = torch.zeros(len(batch))\n",
    "    input = torch.zeros(len(batch),3, 16, 112, 112)\n",
    "    for i in range(len(batch)):\n",
    "        input_label = batch[i]\n",
    "        label[i] = int(float(input_label[1]))\n",
    "        input_list = input_label[0]\n",
    "        for j in range(len(input_list)):\n",
    "            input[i][j] = input_list[j]\n",
    "\n",
    "    #input = input.permute(0, 2, 3, 4, 1)\n",
    "\n",
    "    return (input, label)"
   ]
  },
  {
   "cell_type": "code",
   "execution_count": 14,
   "metadata": {},
   "outputs": [],
   "source": [
    "use_cuda = torch.cuda.is_available()\n",
    "use_cuda =  \"\"\n",
    "#device = torch.device(\"cuda\" if use_cuda else \"cpu\")\n",
    "device= \"cpu\"\n",
    "kwargs = {'num_workers': 4, 'pin_memory': True} if use_cuda else {}\n",
    "total=84027\n",
    "BS = 15\n",
    "outputsize=len(hierclasses3)"
   ]
  },
  {
   "cell_type": "markdown",
   "metadata": {},
   "source": [
    "## Testing Data Augmentation ##"
   ]
  },
  {
   "cell_type": "markdown",
   "metadata": {},
   "source": [
    "### Original Image ###\n",
    "<img src=\"../taraImages/Chaetoceros_Chaetoceros 1 temp/10833272_S122--D1--R27--G100010241--A130821--L02556--animation.gif\">"
   ]
  },
  {
   "cell_type": "code",
   "execution_count": 264,
   "metadata": {},
   "outputs": [
    {
     "name": "stdout",
     "output_type": "stream",
     "text": [
      "Tensor Shape: (3, 16, 190, 435)\n"
     ]
    }
   ],
   "source": [
    "pdataset=plancton3DDataset(gifListFile,rootDir,channels,timeDepth,xSize,ySize,startFrame,\n",
    "                          endFrame,numFilters,Filters,hierclasses1,classes_transf,transfpos)\n",
    "tensor=pdataset.readGif(\"../taraImages/Chaetoceros_Chaetoceros 1 temp/10833272_S122--D1--R27--G100010241--A130821--L02556--animation.gif\")\n",
    "print(\"Tensor Shape:\",tensor.shape)\n",
    "\n",
    "rescale=Rescale(200)\n",
    "crop=RandomCrop((100))\n",
    "rotate=RandomRotate()\n",
    "flip=RandomFlip()\n"
   ]
  },
  {
   "cell_type": "code",
   "execution_count": 265,
   "metadata": {},
   "outputs": [],
   "source": [
    "show_gif(tensor,'../out_gif/out8.gif')"
   ]
  },
  {
   "cell_type": "markdown",
   "metadata": {},
   "source": [
    "<img src=\"../out_gif/out8.gif\"  width=\"500\">"
   ]
  },
  {
   "cell_type": "code",
   "execution_count": 279,
   "metadata": {},
   "outputs": [],
   "source": [
    "def show_gif(tensor,directory):\n",
    "    c,f,h,w=tensor.shape\n",
    "    new_im=[]\n",
    "    for frame in range(f):   \n",
    "        new_im.append(Image.new('RGB', (w*3, h)))\n",
    "        x_offset = 0\n",
    "        for channel in range(c):\n",
    "            im=Image.fromarray(tensor[channel,frame,:,:])\n",
    "            new_im[frame].paste(im, (x_offset,0))\n",
    "            x_offset += im.size[0]\n",
    "        #imgplot = plt.imshow(new_im[frame])\n",
    "        new_im[0].save(directory,\n",
    "                   save_all=True,\n",
    "                   append_images=new_im[1:],\n",
    "                   duration=16,\n",
    "                   loop=0)\n"
   ]
  },
  {
   "cell_type": "markdown",
   "metadata": {},
   "source": [
    "## Brightness ##"
   ]
  },
  {
   "cell_type": "code",
   "execution_count": 289,
   "metadata": {},
   "outputs": [],
   "source": [
    "import PIL.ImageEnhance as ie\n",
    "import PIL.Image \n",
    "import random \n",
    "\n",
    "class RandomBrightner(object):\n",
    "    \"\"\"Brightness the 3 filters \n",
    "    \n",
    "    Args:\n",
    "        output_size (tuple or int): Desired output size of each frame of each filter. If int, square crop\n",
    "            is made.\n",
    "    \"\"\"\n",
    "    def __init__(self,var):\n",
    "        self.var = var\n",
    "    \n",
    "    def __call__(self, sample):\n",
    "        image= sample\n",
    "        if random.randint(0,1)==1:\n",
    "            alpha = random.uniform(0.70, self.var)\n",
    "            print(\"alpha:\",alpha)\n",
    "            c,f,h, w = image.shape\n",
    "            image=image*alpha\n",
    "\n",
    "        return image\n",
    "    "
   ]
  },
  {
   "cell_type": "code",
   "execution_count": 290,
   "metadata": {},
   "outputs": [],
   "source": [
    "brightner=RandomBrightner(1)\n",
    "tensor=pdataset.readGif(\"../taraImages/Chaetoceros_Chaetoceros 1 temp/10833272_S122--D1--R27--G100010241--A130821--L02556--animation.gif\")\n",
    "show_gif(tensor,'../out_gif/out126.gif')\n",
    "tensorBright=brightner(tensor)\n",
    "show_gif(tensorBright,'../out_gif/bright126.gif')  "
   ]
  },
  {
   "cell_type": "markdown",
   "metadata": {},
   "source": [
    "<img src=\"../out_gif/out126.gif\" width=\"400\" >\n",
    "\n",
    "<img src=\"../out_gif/bright126.gif\" width=\"400\" >"
   ]
  },
  {
   "cell_type": "markdown",
   "metadata": {},
   "source": [
    "### Rescale ###"
   ]
  },
  {
   "cell_type": "code",
   "execution_count": 174,
   "metadata": {},
   "outputs": [],
   "source": [
    "tensorResize=rescale(tensor)\n",
    "show_gif(tensorResize,'../out_gif/rescale105.gif')   "
   ]
  },
  {
   "cell_type": "markdown",
   "metadata": {},
   "source": [
    "<img src=\"../out_gif/rescale105.gif\" width=\"200\" >"
   ]
  },
  {
   "cell_type": "markdown",
   "metadata": {},
   "source": [
    "### Random Crop ###"
   ]
  },
  {
   "cell_type": "code",
   "execution_count": 131,
   "metadata": {},
   "outputs": [],
   "source": [
    "tensorResize=crop(tensor)\n",
    "show_gif(tensorResize,'../out_gif/crop105.gif')  "
   ]
  },
  {
   "cell_type": "markdown",
   "metadata": {},
   "source": [
    "<img src=\"../out_gif/crop105.gif\" width=\"200\">\n"
   ]
  },
  {
   "cell_type": "markdown",
   "metadata": {},
   "source": [
    "### Random Flip ###\n"
   ]
  },
  {
   "cell_type": "code",
   "execution_count": 150,
   "metadata": {},
   "outputs": [
    {
     "name": "stdout",
     "output_type": "stream",
     "text": [
      "UDDirection\n"
     ]
    }
   ],
   "source": [
    "tensorResize=flip(tensor)\n",
    "show_gif(tensorResize,'../out_gif/flip9.gif')   "
   ]
  },
  {
   "cell_type": "markdown",
   "metadata": {},
   "source": [
    "<img src=\"../out_gif/flip9.gif\"  widht=\"300\" >"
   ]
  },
  {
   "cell_type": "markdown",
   "metadata": {},
   "source": [
    "### Random Rotate ###"
   ]
  },
  {
   "cell_type": "code",
   "execution_count": 123,
   "metadata": {},
   "outputs": [],
   "source": [
    "tensorResize=rotate(tensor)\n",
    "show_gif(tensorResize,'../out_gif/rotate.gif')   "
   ]
  },
  {
   "cell_type": "markdown",
   "metadata": {},
   "source": [
    "<img src=\"../out_gif/rotate.gif\" >"
   ]
  },
  {
   "cell_type": "markdown",
   "metadata": {},
   "source": [
    "### Try Rescale +  Crop + Rotate + Flip ###"
   ]
  },
  {
   "cell_type": "code",
   "execution_count": 261,
   "metadata": {},
   "outputs": [],
   "source": [
    "compose=transforms.Compose([Rescale(150),\n",
    "                                RandomCrop(112),\n",
    "                                RandomRotate(),\n",
    "                                RandomFlip()])\n",
    "tensorComplete=compose(tensor)\n",
    "show_gif(tensorComplete,'../out_gif/complete5.gif')   "
   ]
  },
  {
   "cell_type": "markdown",
   "metadata": {},
   "source": [
    "<img src=\"../out_gif/complete5.gif\" widht=\"300\">"
   ]
  },
  {
   "cell_type": "markdown",
   "metadata": {},
   "source": [
    "## Genearate Data loaders ##"
   ]
  },
  {
   "cell_type": "code",
   "execution_count": 9,
   "metadata": {},
   "outputs": [],
   "source": [
    "def get_data_loaders(train_batch_size, val_batch_size):\n",
    "    colmean=[252.9242,251.4343,156.3816]\n",
    "    colstddev=[7.7102,11.3070,66.3204]\n",
    "    compose=transforms.Compose([Rescale(150),\n",
    "                                RandomCrop(112),\n",
    "                                RandomRotate(),\n",
    "                                RandomFlip(),\n",
    "                                Normalize(colmean,colstddev),\n",
    "                                ToTensor()])\n",
    "    colmeanval=[252.9046,251.4320,156.2538]\n",
    "    colstddevval=[7.9116,11.3310,66.1270]\n",
    "\n",
    "    composetest=transforms.Compose([Rescale(112),\n",
    "                                Normalize(colmeanval,colstddevval),\n",
    "                                ToTensor()])\n",
    "\n",
    "    train_loader = data.DataLoader(plancton3DDataset(gifList=trainlist[:1000],\n",
    "                                          rootDir=\"../taraImages/\",\n",
    "                                          channels=1,timeDepth=16,xSize=112,ySize=112,\n",
    "                                          startFrame=0,endFrame=15,numFilters=3,filters=[2,3,4],\n",
    "                                          keys=hierclasses3,classes_transf=classes_transf,transfpos=2,transform=compose), \n",
    "                               batch_size=train_batch_size, shuffle=True, collate_fn=ucf_collate, **kwargs)\n",
    "\n",
    "    val_loader = data.DataLoader(plancton3DDataset(gifList=testlist[:100],\n",
    "                                          rootDir=\"../taraImages/\",\n",
    "                                          channels=1,timeDepth=16,xSize=112,ySize=112,\n",
    "                                          startFrame=0,endFrame=15,numFilters=3,filters=[2,3,4],\n",
    "                                          keys=hierclasses3,classes_transf=classes_transf,transfpos=2,transform=composetest), \n",
    "                              batch_size=val_batch_size, shuffle=True, collate_fn=ucf_collate, **kwargs)\n",
    "    \n",
    "    return train_loader, val_loader\n"
   ]
  },
  {
   "cell_type": "markdown",
   "metadata": {},
   "source": [
    "## C3D Model\n",
    "We need to change the first filter to allow the input of the Volume with 5 Colors ans 20 slices\n",
    "and change the last layer to 41 classes"
   ]
  },
  {
   "cell_type": "code",
   "execution_count": 10,
   "metadata": {},
   "outputs": [],
   "source": [
    "def weights_init(m):\n",
    "    classname = m.__class__.__name__\n",
    "    if classname.find('Conv') != -1:\n",
    "        m.weight.data.normal_(0.0, 0.02)\n",
    "# C3D Model\n",
    "class C3D(nn.Module):\n",
    "    def __init__(self):\n",
    "        super(C3D, self).__init__()\n",
    "        self.group1 = nn.Sequential(\n",
    "            nn.Conv3d(3, 64, kernel_size=(3, 3, 3), padding=1),\n",
    "            nn.BatchNorm3d(64),\n",
    "            nn.ReLU(),\n",
    "            nn.MaxPool3d(kernel_size=(1, 2, 2), stride=(1, 2, 2)))\n",
    "        self.group2 = nn.Sequential(\n",
    "            nn.Conv3d(64, 128, kernel_size=3, padding=1),\n",
    "            nn.BatchNorm3d(128),\n",
    "            nn.ReLU(),\n",
    "            nn.MaxPool3d(kernel_size=(2, 2, 2), stride=(2, 2, 2)))\n",
    "        self.group3 = nn.Sequential(\n",
    "            nn.Conv3d(128, 256, kernel_size=3, padding=1),\n",
    "            nn.BatchNorm3d(256),\n",
    "            nn.ReLU(),\n",
    "            nn.Conv3d(256, 256, kernel_size=3, padding=1),\n",
    "            nn.BatchNorm3d(256),\n",
    "            nn.ReLU(),\n",
    "            nn.MaxPool3d(kernel_size=(2, 2, 2), stride=(2, 2, 2)))\n",
    "        self.group4 = nn.Sequential(\n",
    "            nn.Conv3d(256, 512, kernel_size=3, padding=1),\n",
    "            nn.BatchNorm3d(512),\n",
    "            nn.ReLU(),\n",
    "            nn.Conv3d(512, 512, kernel_size=3, padding=1),\n",
    "            nn.BatchNorm3d(512),\n",
    "            nn.ReLU(),\n",
    "            nn.MaxPool3d(kernel_size=(2, 2, 2), stride=(2, 2, 2)))\n",
    "        self.group5 = nn.Sequential(\n",
    "            nn.Conv3d(512, 512, kernel_size=3, padding=1),\n",
    "            nn.BatchNorm3d(512),\n",
    "            nn.ReLU(),\n",
    "            nn.Conv3d(512, 512, kernel_size=3, padding=1),\n",
    "            nn.BatchNorm3d(512),\n",
    "            nn.ReLU(),\n",
    "            nn.MaxPool3d(kernel_size=(2, 2, 2), stride=(2, 2, 2)))\n",
    "        self.fc1 = nn.Sequential(\n",
    "            nn.Linear(512 * 3 * 3, 2048),  \n",
    "            nn.BatchNorm1d(2048),\n",
    "            nn.ReLU(),\n",
    "            nn.Dropout(0.5))\n",
    "        self.fc2 = nn.Sequential(\n",
    "            nn.Linear(2048, 2048),\n",
    "            nn.BatchNorm1d(2048),\n",
    "            nn.ReLU(),\n",
    "            nn.Dropout(0.5))\n",
    "        self.fc3 = nn.Sequential(\n",
    "            nn.Linear(2048, outputsize))           #101\n",
    "\n",
    "        self._features = nn.Sequential(\n",
    "            self.group1,\n",
    "            self.group2,\n",
    "            self.group3,\n",
    "            self.group4,\n",
    "            self.group5\n",
    "        )\n",
    "\n",
    "        self._classifier = nn.Sequential(\n",
    "            self.fc1,\n",
    "            self.fc2\n",
    "        )\n",
    "\n",
    "    def forward(self, x):\n",
    "        out = self._features(x)\n",
    "        out = out.view(out.size(0), -1)\n",
    "        out = self._classifier(out)\n",
    "        return self.fc3(out)\n"
   ]
  },
  {
   "cell_type": "code",
   "execution_count": 11,
   "metadata": {
    "scrolled": true
   },
   "outputs": [
    {
     "data": {
      "text/plain": [
       "C3D(\n",
       "  (group1): Sequential(\n",
       "    (0): Conv3d(3, 64, kernel_size=(3, 3, 3), stride=(1, 1, 1), padding=(1, 1, 1))\n",
       "    (1): BatchNorm3d(64, eps=1e-05, momentum=0.1, affine=True, track_running_stats=True)\n",
       "    (2): ReLU()\n",
       "    (3): MaxPool3d(kernel_size=(1, 2, 2), stride=(1, 2, 2), padding=0, dilation=1, ceil_mode=False)\n",
       "  )\n",
       "  (group2): Sequential(\n",
       "    (0): Conv3d(64, 128, kernel_size=(3, 3, 3), stride=(1, 1, 1), padding=(1, 1, 1))\n",
       "    (1): BatchNorm3d(128, eps=1e-05, momentum=0.1, affine=True, track_running_stats=True)\n",
       "    (2): ReLU()\n",
       "    (3): MaxPool3d(kernel_size=(2, 2, 2), stride=(2, 2, 2), padding=0, dilation=1, ceil_mode=False)\n",
       "  )\n",
       "  (group3): Sequential(\n",
       "    (0): Conv3d(128, 256, kernel_size=(3, 3, 3), stride=(1, 1, 1), padding=(1, 1, 1))\n",
       "    (1): BatchNorm3d(256, eps=1e-05, momentum=0.1, affine=True, track_running_stats=True)\n",
       "    (2): ReLU()\n",
       "    (3): Conv3d(256, 256, kernel_size=(3, 3, 3), stride=(1, 1, 1), padding=(1, 1, 1))\n",
       "    (4): BatchNorm3d(256, eps=1e-05, momentum=0.1, affine=True, track_running_stats=True)\n",
       "    (5): ReLU()\n",
       "    (6): MaxPool3d(kernel_size=(2, 2, 2), stride=(2, 2, 2), padding=0, dilation=1, ceil_mode=False)\n",
       "  )\n",
       "  (group4): Sequential(\n",
       "    (0): Conv3d(256, 512, kernel_size=(3, 3, 3), stride=(1, 1, 1), padding=(1, 1, 1))\n",
       "    (1): BatchNorm3d(512, eps=1e-05, momentum=0.1, affine=True, track_running_stats=True)\n",
       "    (2): ReLU()\n",
       "    (3): Conv3d(512, 512, kernel_size=(3, 3, 3), stride=(1, 1, 1), padding=(1, 1, 1))\n",
       "    (4): BatchNorm3d(512, eps=1e-05, momentum=0.1, affine=True, track_running_stats=True)\n",
       "    (5): ReLU()\n",
       "    (6): MaxPool3d(kernel_size=(2, 2, 2), stride=(2, 2, 2), padding=0, dilation=1, ceil_mode=False)\n",
       "  )\n",
       "  (group5): Sequential(\n",
       "    (0): Conv3d(512, 512, kernel_size=(3, 3, 3), stride=(1, 1, 1), padding=(1, 1, 1))\n",
       "    (1): BatchNorm3d(512, eps=1e-05, momentum=0.1, affine=True, track_running_stats=True)\n",
       "    (2): ReLU()\n",
       "    (3): Conv3d(512, 512, kernel_size=(3, 3, 3), stride=(1, 1, 1), padding=(1, 1, 1))\n",
       "    (4): BatchNorm3d(512, eps=1e-05, momentum=0.1, affine=True, track_running_stats=True)\n",
       "    (5): ReLU()\n",
       "    (6): MaxPool3d(kernel_size=(2, 2, 2), stride=(2, 2, 2), padding=0, dilation=1, ceil_mode=False)\n",
       "  )\n",
       "  (fc1): Sequential(\n",
       "    (0): Linear(in_features=4608, out_features=2048, bias=True)\n",
       "    (1): BatchNorm1d(2048, eps=1e-05, momentum=0.1, affine=True, track_running_stats=True)\n",
       "    (2): ReLU()\n",
       "    (3): Dropout(p=0.5)\n",
       "  )\n",
       "  (fc2): Sequential(\n",
       "    (0): Linear(in_features=2048, out_features=2048, bias=True)\n",
       "    (1): BatchNorm1d(2048, eps=1e-05, momentum=0.1, affine=True, track_running_stats=True)\n",
       "    (2): ReLU()\n",
       "    (3): Dropout(p=0.5)\n",
       "  )\n",
       "  (fc3): Sequential(\n",
       "    (0): Linear(in_features=2048, out_features=156, bias=True)\n",
       "  )\n",
       "  (_features): Sequential(\n",
       "    (0): Sequential(\n",
       "      (0): Conv3d(3, 64, kernel_size=(3, 3, 3), stride=(1, 1, 1), padding=(1, 1, 1))\n",
       "      (1): BatchNorm3d(64, eps=1e-05, momentum=0.1, affine=True, track_running_stats=True)\n",
       "      (2): ReLU()\n",
       "      (3): MaxPool3d(kernel_size=(1, 2, 2), stride=(1, 2, 2), padding=0, dilation=1, ceil_mode=False)\n",
       "    )\n",
       "    (1): Sequential(\n",
       "      (0): Conv3d(64, 128, kernel_size=(3, 3, 3), stride=(1, 1, 1), padding=(1, 1, 1))\n",
       "      (1): BatchNorm3d(128, eps=1e-05, momentum=0.1, affine=True, track_running_stats=True)\n",
       "      (2): ReLU()\n",
       "      (3): MaxPool3d(kernel_size=(2, 2, 2), stride=(2, 2, 2), padding=0, dilation=1, ceil_mode=False)\n",
       "    )\n",
       "    (2): Sequential(\n",
       "      (0): Conv3d(128, 256, kernel_size=(3, 3, 3), stride=(1, 1, 1), padding=(1, 1, 1))\n",
       "      (1): BatchNorm3d(256, eps=1e-05, momentum=0.1, affine=True, track_running_stats=True)\n",
       "      (2): ReLU()\n",
       "      (3): Conv3d(256, 256, kernel_size=(3, 3, 3), stride=(1, 1, 1), padding=(1, 1, 1))\n",
       "      (4): BatchNorm3d(256, eps=1e-05, momentum=0.1, affine=True, track_running_stats=True)\n",
       "      (5): ReLU()\n",
       "      (6): MaxPool3d(kernel_size=(2, 2, 2), stride=(2, 2, 2), padding=0, dilation=1, ceil_mode=False)\n",
       "    )\n",
       "    (3): Sequential(\n",
       "      (0): Conv3d(256, 512, kernel_size=(3, 3, 3), stride=(1, 1, 1), padding=(1, 1, 1))\n",
       "      (1): BatchNorm3d(512, eps=1e-05, momentum=0.1, affine=True, track_running_stats=True)\n",
       "      (2): ReLU()\n",
       "      (3): Conv3d(512, 512, kernel_size=(3, 3, 3), stride=(1, 1, 1), padding=(1, 1, 1))\n",
       "      (4): BatchNorm3d(512, eps=1e-05, momentum=0.1, affine=True, track_running_stats=True)\n",
       "      (5): ReLU()\n",
       "      (6): MaxPool3d(kernel_size=(2, 2, 2), stride=(2, 2, 2), padding=0, dilation=1, ceil_mode=False)\n",
       "    )\n",
       "    (4): Sequential(\n",
       "      (0): Conv3d(512, 512, kernel_size=(3, 3, 3), stride=(1, 1, 1), padding=(1, 1, 1))\n",
       "      (1): BatchNorm3d(512, eps=1e-05, momentum=0.1, affine=True, track_running_stats=True)\n",
       "      (2): ReLU()\n",
       "      (3): Conv3d(512, 512, kernel_size=(3, 3, 3), stride=(1, 1, 1), padding=(1, 1, 1))\n",
       "      (4): BatchNorm3d(512, eps=1e-05, momentum=0.1, affine=True, track_running_stats=True)\n",
       "      (5): ReLU()\n",
       "      (6): MaxPool3d(kernel_size=(2, 2, 2), stride=(2, 2, 2), padding=0, dilation=1, ceil_mode=False)\n",
       "    )\n",
       "  )\n",
       "  (_classifier): Sequential(\n",
       "    (0): Sequential(\n",
       "      (0): Linear(in_features=4608, out_features=2048, bias=True)\n",
       "      (1): BatchNorm1d(2048, eps=1e-05, momentum=0.1, affine=True, track_running_stats=True)\n",
       "      (2): ReLU()\n",
       "      (3): Dropout(p=0.5)\n",
       "    )\n",
       "    (1): Sequential(\n",
       "      (0): Linear(in_features=2048, out_features=2048, bias=True)\n",
       "      (1): BatchNorm1d(2048, eps=1e-05, momentum=0.1, affine=True, track_running_stats=True)\n",
       "      (2): ReLU()\n",
       "      (3): Dropout(p=0.5)\n",
       "    )\n",
       "  )\n",
       ")"
      ]
     },
     "execution_count": 11,
     "metadata": {},
     "output_type": "execute_result"
    }
   ],
   "source": [
    "c3d = C3D()\n",
    "c3d.apply(weights_init)"
   ]
  },
  {
   "cell_type": "code",
   "execution_count": 12,
   "metadata": {},
   "outputs": [],
   "source": [
    "from torch.optim import lr_scheduler\n",
    "from torchvision.models  import *\n",
    "from torch.optim.lr_scheduler import MultiStepLR\n",
    "#model_alex = vgg11(num_classes=10).to(device)\n",
    "import torch.backends.cudnn as cudnn\n",
    "\n",
    "if use_cuda:\n",
    "    c3d.cuda()\n",
    "    c3d = torch.nn.DataParallel(c3d, device_ids=range(torch.cuda.device_count()))\n",
    "    cudnn.benchmark = True\n",
    "    \n",
    "#optimizer = torch.optim.SGD(c3d.parameters(), lr=0.001, momentum=0.9, weight_decay=0.0001)\n",
    "optimizer = torch.optim.Adam(c3d.parameters(), lr=0.001,weight_decay=0.0001)\n",
    "criterion = nn.CrossEntropyLoss()\n",
    "#scheduler = MultiStepLR(optimizer, milestones=[10,20,30,40], gamma=0.1)\n",
    "epochs=1"
   ]
  },
  {
   "cell_type": "code",
   "execution_count": 13,
   "metadata": {},
   "outputs": [],
   "source": [
    "def create_summary_writer(model, data_loader, log_dir):\n",
    "    writer = SummaryWriter(log_dir=log_dir)\n",
    "    data_loader_iter = iter(data_loader)\n",
    "    x, y = next(data_loader_iter)\n",
    "    try:\n",
    "        writer.add_graph(model, x)\n",
    "    except Exception as e:\n",
    "        print(\"Failed to save model graph: {}\".format(e))\n",
    "    return writer"
   ]
  },
  {
   "cell_type": "code",
   "execution_count": 14,
   "metadata": {},
   "outputs": [],
   "source": [
    "def myLoss(y_pred,y):\n",
    "    return F.cross_entropy(y_pred, y.long())    "
   ]
  },
  {
   "cell_type": "code",
   "execution_count": 16,
   "metadata": {},
   "outputs": [],
   "source": [
    "train_batch_size=15;val_batch_size=15\n",
    "log_interval=20\n",
    "model=c3d\n",
    "train_loader, val_loader = get_data_loaders(train_batch_size, val_batch_size)\n",
    "writer = create_summary_writer(model, train_loader, log_dir)\n",
    "trainer = create_supervised_trainer(model, optimizer,myLoss, device=device)\n",
    "\n",
    "evaluator = create_supervised_evaluator(model,\n",
    "                                        metrics={'accuracy': CategoricalAccuracy(),\n",
    "                                                 'crossEntropyLoss': Loss(myLoss),\n",
    "                                                'recall': Recall(), \n",
    "                                                'precision': Precision()},\n",
    "                                        device=device)"
   ]
  },
  {
   "cell_type": "code",
   "execution_count": 17,
   "metadata": {},
   "outputs": [
    {
     "name": "stdout",
     "output_type": "stream",
     "text": [
      "Epoch[1] Iteration[20/67] Loss: 0.14\n",
      "Epoch[1] Iteration[40/67] Loss: 0.11\n",
      "Epoch[1] Iteration[60/67] Loss: 0.88\n"
     ]
    },
    {
     "ename": "RuntimeError",
     "evalue": "Expected object of type torch.cuda.LongTensor but found type torch.cuda.FloatTensor for argument #2 'other'",
     "output_type": "error",
     "traceback": [
      "\u001b[0;31m---------------------------------------------------------------------------\u001b[0m",
      "\u001b[0;31mRuntimeError\u001b[0m                              Traceback (most recent call last)",
      "\u001b[0;32m<ipython-input-17-b84da2e50c9d>\u001b[0m in \u001b[0;36m<module>\u001b[0;34m()\u001b[0m\n\u001b[1;32m     35\u001b[0m     \u001b[0mwriter\u001b[0m\u001b[0;34m.\u001b[0m\u001b[0madd_scalar\u001b[0m\u001b[0;34m(\u001b[0m\u001b[0;34m\"valdation/precision\"\u001b[0m\u001b[0;34m,\u001b[0m \u001b[0mavg_precision\u001b[0m\u001b[0;34m,\u001b[0m \u001b[0mengine\u001b[0m\u001b[0;34m.\u001b[0m\u001b[0mstate\u001b[0m\u001b[0;34m.\u001b[0m\u001b[0mepoch\u001b[0m\u001b[0;34m)\u001b[0m\u001b[0;34m\u001b[0m\u001b[0m\n\u001b[1;32m     36\u001b[0m \u001b[0;34m\u001b[0m\u001b[0m\n\u001b[0;32m---> 37\u001b[0;31m \u001b[0mtrainer\u001b[0m\u001b[0;34m.\u001b[0m\u001b[0mrun\u001b[0m\u001b[0;34m(\u001b[0m\u001b[0mtrain_loader\u001b[0m\u001b[0;34m,\u001b[0m \u001b[0mmax_epochs\u001b[0m\u001b[0;34m=\u001b[0m\u001b[0mepochs\u001b[0m\u001b[0;34m)\u001b[0m\u001b[0;34m\u001b[0m\u001b[0m\n\u001b[0m\u001b[1;32m     38\u001b[0m \u001b[0mwriter\u001b[0m\u001b[0;34m.\u001b[0m\u001b[0mclose\u001b[0m\u001b[0;34m(\u001b[0m\u001b[0;34m)\u001b[0m\u001b[0;34m\u001b[0m\u001b[0m\n",
      "\u001b[0;32m~/.local/lib/python3.6/site-packages/ignite/engine/engine.py\u001b[0m in \u001b[0;36mrun\u001b[0;34m(self, data, max_epochs)\u001b[0m\n\u001b[1;32m    221\u001b[0m         \u001b[0;32mexcept\u001b[0m \u001b[0mBaseException\u001b[0m \u001b[0;32mas\u001b[0m \u001b[0me\u001b[0m\u001b[0;34m:\u001b[0m\u001b[0;34m\u001b[0m\u001b[0m\n\u001b[1;32m    222\u001b[0m             \u001b[0mself\u001b[0m\u001b[0;34m.\u001b[0m\u001b[0m_logger\u001b[0m\u001b[0;34m.\u001b[0m\u001b[0merror\u001b[0m\u001b[0;34m(\u001b[0m\u001b[0;34m\"Engine run is terminating due to exception: %s\"\u001b[0m\u001b[0;34m,\u001b[0m \u001b[0mstr\u001b[0m\u001b[0;34m(\u001b[0m\u001b[0me\u001b[0m\u001b[0;34m)\u001b[0m\u001b[0;34m)\u001b[0m\u001b[0;34m\u001b[0m\u001b[0m\n\u001b[0;32m--> 223\u001b[0;31m             \u001b[0mself\u001b[0m\u001b[0;34m.\u001b[0m\u001b[0m_handle_exception\u001b[0m\u001b[0;34m(\u001b[0m\u001b[0me\u001b[0m\u001b[0;34m)\u001b[0m\u001b[0;34m\u001b[0m\u001b[0m\n\u001b[0m\u001b[1;32m    224\u001b[0m \u001b[0;34m\u001b[0m\u001b[0m\n\u001b[1;32m    225\u001b[0m         \u001b[0;32mreturn\u001b[0m \u001b[0mself\u001b[0m\u001b[0;34m.\u001b[0m\u001b[0mstate\u001b[0m\u001b[0;34m\u001b[0m\u001b[0m\n",
      "\u001b[0;32m~/.local/lib/python3.6/site-packages/ignite/engine/engine.py\u001b[0m in \u001b[0;36m_handle_exception\u001b[0;34m(self, e)\u001b[0m\n\u001b[1;32m    186\u001b[0m             \u001b[0mself\u001b[0m\u001b[0;34m.\u001b[0m\u001b[0m_fire_event\u001b[0m\u001b[0;34m(\u001b[0m\u001b[0mEvents\u001b[0m\u001b[0;34m.\u001b[0m\u001b[0mEXCEPTION_RAISED\u001b[0m\u001b[0;34m,\u001b[0m \u001b[0me\u001b[0m\u001b[0;34m)\u001b[0m\u001b[0;34m\u001b[0m\u001b[0m\n\u001b[1;32m    187\u001b[0m         \u001b[0;32melse\u001b[0m\u001b[0;34m:\u001b[0m\u001b[0;34m\u001b[0m\u001b[0m\n\u001b[0;32m--> 188\u001b[0;31m             \u001b[0;32mraise\u001b[0m \u001b[0me\u001b[0m\u001b[0;34m\u001b[0m\u001b[0m\n\u001b[0m\u001b[1;32m    189\u001b[0m \u001b[0;34m\u001b[0m\u001b[0m\n\u001b[1;32m    190\u001b[0m     \u001b[0;32mdef\u001b[0m \u001b[0mrun\u001b[0m\u001b[0;34m(\u001b[0m\u001b[0mself\u001b[0m\u001b[0;34m,\u001b[0m \u001b[0mdata\u001b[0m\u001b[0;34m,\u001b[0m \u001b[0mmax_epochs\u001b[0m\u001b[0;34m=\u001b[0m\u001b[0;36m1\u001b[0m\u001b[0;34m)\u001b[0m\u001b[0;34m:\u001b[0m\u001b[0;34m\u001b[0m\u001b[0m\n",
      "\u001b[0;32m~/.local/lib/python3.6/site-packages/ignite/engine/engine.py\u001b[0m in \u001b[0;36mrun\u001b[0;34m(self, data, max_epochs)\u001b[0m\n\u001b[1;32m    212\u001b[0m                 \u001b[0;32mif\u001b[0m \u001b[0mself\u001b[0m\u001b[0;34m.\u001b[0m\u001b[0mshould_terminate\u001b[0m\u001b[0;34m:\u001b[0m\u001b[0;34m\u001b[0m\u001b[0m\n\u001b[1;32m    213\u001b[0m                     \u001b[0;32mbreak\u001b[0m\u001b[0;34m\u001b[0m\u001b[0m\n\u001b[0;32m--> 214\u001b[0;31m                 \u001b[0mself\u001b[0m\u001b[0;34m.\u001b[0m\u001b[0m_fire_event\u001b[0m\u001b[0;34m(\u001b[0m\u001b[0mEvents\u001b[0m\u001b[0;34m.\u001b[0m\u001b[0mEPOCH_COMPLETED\u001b[0m\u001b[0;34m)\u001b[0m\u001b[0;34m\u001b[0m\u001b[0m\n\u001b[0m\u001b[1;32m    215\u001b[0m \u001b[0;34m\u001b[0m\u001b[0m\n\u001b[1;32m    216\u001b[0m             \u001b[0mself\u001b[0m\u001b[0;34m.\u001b[0m\u001b[0m_fire_event\u001b[0m\u001b[0;34m(\u001b[0m\u001b[0mEvents\u001b[0m\u001b[0;34m.\u001b[0m\u001b[0mCOMPLETED\u001b[0m\u001b[0;34m)\u001b[0m\u001b[0;34m\u001b[0m\u001b[0m\n",
      "\u001b[0;32m~/.local/lib/python3.6/site-packages/ignite/engine/engine.py\u001b[0m in \u001b[0;36m_fire_event\u001b[0;34m(self, event_name, *event_args)\u001b[0m\n\u001b[1;32m    152\u001b[0m             \u001b[0mself\u001b[0m\u001b[0;34m.\u001b[0m\u001b[0m_logger\u001b[0m\u001b[0;34m.\u001b[0m\u001b[0mdebug\u001b[0m\u001b[0;34m(\u001b[0m\u001b[0;34m\"firing handlers for event %s \"\u001b[0m\u001b[0;34m,\u001b[0m \u001b[0mevent_name\u001b[0m\u001b[0;34m)\u001b[0m\u001b[0;34m\u001b[0m\u001b[0m\n\u001b[1;32m    153\u001b[0m             \u001b[0;32mfor\u001b[0m \u001b[0mfunc\u001b[0m\u001b[0;34m,\u001b[0m \u001b[0margs\u001b[0m\u001b[0;34m,\u001b[0m \u001b[0mkwargs\u001b[0m \u001b[0;32min\u001b[0m \u001b[0mself\u001b[0m\u001b[0;34m.\u001b[0m\u001b[0m_event_handlers\u001b[0m\u001b[0;34m[\u001b[0m\u001b[0mevent_name\u001b[0m\u001b[0;34m]\u001b[0m\u001b[0;34m:\u001b[0m\u001b[0;34m\u001b[0m\u001b[0m\n\u001b[0;32m--> 154\u001b[0;31m                 \u001b[0mfunc\u001b[0m\u001b[0;34m(\u001b[0m\u001b[0mself\u001b[0m\u001b[0;34m,\u001b[0m \u001b[0;34m*\u001b[0m\u001b[0;34m(\u001b[0m\u001b[0mevent_args\u001b[0m \u001b[0;34m+\u001b[0m \u001b[0margs\u001b[0m\u001b[0;34m)\u001b[0m\u001b[0;34m,\u001b[0m \u001b[0;34m**\u001b[0m\u001b[0mkwargs\u001b[0m\u001b[0;34m)\u001b[0m\u001b[0;34m\u001b[0m\u001b[0m\n\u001b[0m\u001b[1;32m    155\u001b[0m \u001b[0;34m\u001b[0m\u001b[0m\n\u001b[1;32m    156\u001b[0m     \u001b[0;32mdef\u001b[0m \u001b[0mterminate\u001b[0m\u001b[0;34m(\u001b[0m\u001b[0mself\u001b[0m\u001b[0;34m)\u001b[0m\u001b[0;34m:\u001b[0m\u001b[0;34m\u001b[0m\u001b[0m\n",
      "\u001b[0;32m<ipython-input-17-b84da2e50c9d>\u001b[0m in \u001b[0;36mlog_training_results\u001b[0;34m(engine)\u001b[0m\n\u001b[1;32m      9\u001b[0m \u001b[0;34m@\u001b[0m\u001b[0mtrainer\u001b[0m\u001b[0;34m.\u001b[0m\u001b[0mon\u001b[0m\u001b[0;34m(\u001b[0m\u001b[0mEvents\u001b[0m\u001b[0;34m.\u001b[0m\u001b[0mEPOCH_COMPLETED\u001b[0m\u001b[0;34m)\u001b[0m\u001b[0;34m\u001b[0m\u001b[0m\n\u001b[1;32m     10\u001b[0m \u001b[0;32mdef\u001b[0m \u001b[0mlog_training_results\u001b[0m\u001b[0;34m(\u001b[0m\u001b[0mengine\u001b[0m\u001b[0;34m)\u001b[0m\u001b[0;34m:\u001b[0m\u001b[0;34m\u001b[0m\u001b[0m\n\u001b[0;32m---> 11\u001b[0;31m     \u001b[0mevaluator\u001b[0m\u001b[0;34m.\u001b[0m\u001b[0mrun\u001b[0m\u001b[0;34m(\u001b[0m\u001b[0mtrain_loader\u001b[0m\u001b[0;34m)\u001b[0m\u001b[0;34m\u001b[0m\u001b[0m\n\u001b[0m\u001b[1;32m     12\u001b[0m     \u001b[0mmetrics\u001b[0m \u001b[0;34m=\u001b[0m \u001b[0mevaluator\u001b[0m\u001b[0;34m.\u001b[0m\u001b[0mstate\u001b[0m\u001b[0;34m.\u001b[0m\u001b[0mmetrics\u001b[0m\u001b[0;34m\u001b[0m\u001b[0m\n\u001b[1;32m     13\u001b[0m     \u001b[0mavg_accuracy\u001b[0m \u001b[0;34m=\u001b[0m \u001b[0mmetrics\u001b[0m\u001b[0;34m[\u001b[0m\u001b[0;34m'accuracy'\u001b[0m\u001b[0;34m]\u001b[0m\u001b[0;34m\u001b[0m\u001b[0m\n",
      "\u001b[0;32m~/.local/lib/python3.6/site-packages/ignite/engine/engine.py\u001b[0m in \u001b[0;36mrun\u001b[0;34m(self, data, max_epochs)\u001b[0m\n\u001b[1;32m    221\u001b[0m         \u001b[0;32mexcept\u001b[0m \u001b[0mBaseException\u001b[0m \u001b[0;32mas\u001b[0m \u001b[0me\u001b[0m\u001b[0;34m:\u001b[0m\u001b[0;34m\u001b[0m\u001b[0m\n\u001b[1;32m    222\u001b[0m             \u001b[0mself\u001b[0m\u001b[0;34m.\u001b[0m\u001b[0m_logger\u001b[0m\u001b[0;34m.\u001b[0m\u001b[0merror\u001b[0m\u001b[0;34m(\u001b[0m\u001b[0;34m\"Engine run is terminating due to exception: %s\"\u001b[0m\u001b[0;34m,\u001b[0m \u001b[0mstr\u001b[0m\u001b[0;34m(\u001b[0m\u001b[0me\u001b[0m\u001b[0;34m)\u001b[0m\u001b[0;34m)\u001b[0m\u001b[0;34m\u001b[0m\u001b[0m\n\u001b[0;32m--> 223\u001b[0;31m             \u001b[0mself\u001b[0m\u001b[0;34m.\u001b[0m\u001b[0m_handle_exception\u001b[0m\u001b[0;34m(\u001b[0m\u001b[0me\u001b[0m\u001b[0;34m)\u001b[0m\u001b[0;34m\u001b[0m\u001b[0m\n\u001b[0m\u001b[1;32m    224\u001b[0m \u001b[0;34m\u001b[0m\u001b[0m\n\u001b[1;32m    225\u001b[0m         \u001b[0;32mreturn\u001b[0m \u001b[0mself\u001b[0m\u001b[0;34m.\u001b[0m\u001b[0mstate\u001b[0m\u001b[0;34m\u001b[0m\u001b[0m\n",
      "\u001b[0;32m~/.local/lib/python3.6/site-packages/ignite/engine/engine.py\u001b[0m in \u001b[0;36m_handle_exception\u001b[0;34m(self, e)\u001b[0m\n\u001b[1;32m    186\u001b[0m             \u001b[0mself\u001b[0m\u001b[0;34m.\u001b[0m\u001b[0m_fire_event\u001b[0m\u001b[0;34m(\u001b[0m\u001b[0mEvents\u001b[0m\u001b[0;34m.\u001b[0m\u001b[0mEXCEPTION_RAISED\u001b[0m\u001b[0;34m,\u001b[0m \u001b[0me\u001b[0m\u001b[0;34m)\u001b[0m\u001b[0;34m\u001b[0m\u001b[0m\n\u001b[1;32m    187\u001b[0m         \u001b[0;32melse\u001b[0m\u001b[0;34m:\u001b[0m\u001b[0;34m\u001b[0m\u001b[0m\n\u001b[0;32m--> 188\u001b[0;31m             \u001b[0;32mraise\u001b[0m \u001b[0me\u001b[0m\u001b[0;34m\u001b[0m\u001b[0m\n\u001b[0m\u001b[1;32m    189\u001b[0m \u001b[0;34m\u001b[0m\u001b[0m\n\u001b[1;32m    190\u001b[0m     \u001b[0;32mdef\u001b[0m \u001b[0mrun\u001b[0m\u001b[0;34m(\u001b[0m\u001b[0mself\u001b[0m\u001b[0;34m,\u001b[0m \u001b[0mdata\u001b[0m\u001b[0;34m,\u001b[0m \u001b[0mmax_epochs\u001b[0m\u001b[0;34m=\u001b[0m\u001b[0;36m1\u001b[0m\u001b[0;34m)\u001b[0m\u001b[0;34m:\u001b[0m\u001b[0;34m\u001b[0m\u001b[0m\n",
      "\u001b[0;32m~/.local/lib/python3.6/site-packages/ignite/engine/engine.py\u001b[0m in \u001b[0;36mrun\u001b[0;34m(self, data, max_epochs)\u001b[0m\n\u001b[1;32m    208\u001b[0m                 \u001b[0mself\u001b[0m\u001b[0;34m.\u001b[0m\u001b[0mstate\u001b[0m\u001b[0;34m.\u001b[0m\u001b[0mepoch\u001b[0m \u001b[0;34m+=\u001b[0m \u001b[0;36m1\u001b[0m\u001b[0;34m\u001b[0m\u001b[0m\n\u001b[1;32m    209\u001b[0m                 \u001b[0mself\u001b[0m\u001b[0;34m.\u001b[0m\u001b[0m_fire_event\u001b[0m\u001b[0;34m(\u001b[0m\u001b[0mEvents\u001b[0m\u001b[0;34m.\u001b[0m\u001b[0mEPOCH_STARTED\u001b[0m\u001b[0;34m)\u001b[0m\u001b[0;34m\u001b[0m\u001b[0m\n\u001b[0;32m--> 210\u001b[0;31m                 \u001b[0mhours\u001b[0m\u001b[0;34m,\u001b[0m \u001b[0mmins\u001b[0m\u001b[0;34m,\u001b[0m \u001b[0msecs\u001b[0m \u001b[0;34m=\u001b[0m \u001b[0mself\u001b[0m\u001b[0;34m.\u001b[0m\u001b[0m_run_once_on_dataset\u001b[0m\u001b[0;34m(\u001b[0m\u001b[0;34m)\u001b[0m\u001b[0;34m\u001b[0m\u001b[0m\n\u001b[0m\u001b[1;32m    211\u001b[0m                 \u001b[0mself\u001b[0m\u001b[0;34m.\u001b[0m\u001b[0m_logger\u001b[0m\u001b[0;34m.\u001b[0m\u001b[0minfo\u001b[0m\u001b[0;34m(\u001b[0m\u001b[0;34m\"Epoch[%s] Complete. Time taken: %02d:%02d:%02d\"\u001b[0m\u001b[0;34m,\u001b[0m \u001b[0mself\u001b[0m\u001b[0;34m.\u001b[0m\u001b[0mstate\u001b[0m\u001b[0;34m.\u001b[0m\u001b[0mepoch\u001b[0m\u001b[0;34m,\u001b[0m \u001b[0mhours\u001b[0m\u001b[0;34m,\u001b[0m \u001b[0mmins\u001b[0m\u001b[0;34m,\u001b[0m \u001b[0msecs\u001b[0m\u001b[0;34m)\u001b[0m\u001b[0;34m\u001b[0m\u001b[0m\n\u001b[1;32m    212\u001b[0m                 \u001b[0;32mif\u001b[0m \u001b[0mself\u001b[0m\u001b[0;34m.\u001b[0m\u001b[0mshould_terminate\u001b[0m\u001b[0;34m:\u001b[0m\u001b[0;34m\u001b[0m\u001b[0m\n",
      "\u001b[0;32m~/.local/lib/python3.6/site-packages/ignite/engine/engine.py\u001b[0m in \u001b[0;36m_run_once_on_dataset\u001b[0;34m(self)\u001b[0m\n\u001b[1;32m    175\u001b[0m         \u001b[0;32mexcept\u001b[0m \u001b[0mBaseException\u001b[0m \u001b[0;32mas\u001b[0m \u001b[0me\u001b[0m\u001b[0;34m:\u001b[0m\u001b[0;34m\u001b[0m\u001b[0m\n\u001b[1;32m    176\u001b[0m             \u001b[0mself\u001b[0m\u001b[0;34m.\u001b[0m\u001b[0m_logger\u001b[0m\u001b[0;34m.\u001b[0m\u001b[0merror\u001b[0m\u001b[0;34m(\u001b[0m\u001b[0;34m\"Current run is terminating due to exception: %s\"\u001b[0m\u001b[0;34m,\u001b[0m \u001b[0mstr\u001b[0m\u001b[0;34m(\u001b[0m\u001b[0me\u001b[0m\u001b[0;34m)\u001b[0m\u001b[0;34m)\u001b[0m\u001b[0;34m\u001b[0m\u001b[0m\n\u001b[0;32m--> 177\u001b[0;31m             \u001b[0mself\u001b[0m\u001b[0;34m.\u001b[0m\u001b[0m_handle_exception\u001b[0m\u001b[0;34m(\u001b[0m\u001b[0me\u001b[0m\u001b[0;34m)\u001b[0m\u001b[0;34m\u001b[0m\u001b[0m\n\u001b[0m\u001b[1;32m    178\u001b[0m \u001b[0;34m\u001b[0m\u001b[0m\n\u001b[1;32m    179\u001b[0m         \u001b[0mtime_taken\u001b[0m \u001b[0;34m=\u001b[0m \u001b[0mtime\u001b[0m\u001b[0;34m.\u001b[0m\u001b[0mtime\u001b[0m\u001b[0;34m(\u001b[0m\u001b[0;34m)\u001b[0m \u001b[0;34m-\u001b[0m \u001b[0mstart_time\u001b[0m\u001b[0;34m\u001b[0m\u001b[0m\n",
      "\u001b[0;32m~/.local/lib/python3.6/site-packages/ignite/engine/engine.py\u001b[0m in \u001b[0;36m_handle_exception\u001b[0;34m(self, e)\u001b[0m\n\u001b[1;32m    186\u001b[0m             \u001b[0mself\u001b[0m\u001b[0;34m.\u001b[0m\u001b[0m_fire_event\u001b[0m\u001b[0;34m(\u001b[0m\u001b[0mEvents\u001b[0m\u001b[0;34m.\u001b[0m\u001b[0mEXCEPTION_RAISED\u001b[0m\u001b[0;34m,\u001b[0m \u001b[0me\u001b[0m\u001b[0;34m)\u001b[0m\u001b[0;34m\u001b[0m\u001b[0m\n\u001b[1;32m    187\u001b[0m         \u001b[0;32melse\u001b[0m\u001b[0;34m:\u001b[0m\u001b[0;34m\u001b[0m\u001b[0m\n\u001b[0;32m--> 188\u001b[0;31m             \u001b[0;32mraise\u001b[0m \u001b[0me\u001b[0m\u001b[0;34m\u001b[0m\u001b[0m\n\u001b[0m\u001b[1;32m    189\u001b[0m \u001b[0;34m\u001b[0m\u001b[0m\n\u001b[1;32m    190\u001b[0m     \u001b[0;32mdef\u001b[0m \u001b[0mrun\u001b[0m\u001b[0;34m(\u001b[0m\u001b[0mself\u001b[0m\u001b[0;34m,\u001b[0m \u001b[0mdata\u001b[0m\u001b[0;34m,\u001b[0m \u001b[0mmax_epochs\u001b[0m\u001b[0;34m=\u001b[0m\u001b[0;36m1\u001b[0m\u001b[0;34m)\u001b[0m\u001b[0;34m:\u001b[0m\u001b[0;34m\u001b[0m\u001b[0m\n",
      "\u001b[0;32m~/.local/lib/python3.6/site-packages/ignite/engine/engine.py\u001b[0m in \u001b[0;36m_run_once_on_dataset\u001b[0;34m(self)\u001b[0m\n\u001b[1;32m    169\u001b[0m                 \u001b[0mself\u001b[0m\u001b[0;34m.\u001b[0m\u001b[0m_fire_event\u001b[0m\u001b[0;34m(\u001b[0m\u001b[0mEvents\u001b[0m\u001b[0;34m.\u001b[0m\u001b[0mITERATION_STARTED\u001b[0m\u001b[0;34m)\u001b[0m\u001b[0;34m\u001b[0m\u001b[0m\n\u001b[1;32m    170\u001b[0m                 \u001b[0mself\u001b[0m\u001b[0;34m.\u001b[0m\u001b[0mstate\u001b[0m\u001b[0;34m.\u001b[0m\u001b[0moutput\u001b[0m \u001b[0;34m=\u001b[0m \u001b[0mself\u001b[0m\u001b[0;34m.\u001b[0m\u001b[0m_process_function\u001b[0m\u001b[0;34m(\u001b[0m\u001b[0mself\u001b[0m\u001b[0;34m,\u001b[0m \u001b[0mbatch\u001b[0m\u001b[0;34m)\u001b[0m\u001b[0;34m\u001b[0m\u001b[0m\n\u001b[0;32m--> 171\u001b[0;31m                 \u001b[0mself\u001b[0m\u001b[0;34m.\u001b[0m\u001b[0m_fire_event\u001b[0m\u001b[0;34m(\u001b[0m\u001b[0mEvents\u001b[0m\u001b[0;34m.\u001b[0m\u001b[0mITERATION_COMPLETED\u001b[0m\u001b[0;34m)\u001b[0m\u001b[0;34m\u001b[0m\u001b[0m\n\u001b[0m\u001b[1;32m    172\u001b[0m                 \u001b[0;32mif\u001b[0m \u001b[0mself\u001b[0m\u001b[0;34m.\u001b[0m\u001b[0mshould_terminate\u001b[0m\u001b[0;34m:\u001b[0m\u001b[0;34m\u001b[0m\u001b[0m\n\u001b[1;32m    173\u001b[0m                     \u001b[0;32mbreak\u001b[0m\u001b[0;34m\u001b[0m\u001b[0m\n",
      "\u001b[0;32m~/.local/lib/python3.6/site-packages/ignite/engine/engine.py\u001b[0m in \u001b[0;36m_fire_event\u001b[0;34m(self, event_name, *event_args)\u001b[0m\n\u001b[1;32m    152\u001b[0m             \u001b[0mself\u001b[0m\u001b[0;34m.\u001b[0m\u001b[0m_logger\u001b[0m\u001b[0;34m.\u001b[0m\u001b[0mdebug\u001b[0m\u001b[0;34m(\u001b[0m\u001b[0;34m\"firing handlers for event %s \"\u001b[0m\u001b[0;34m,\u001b[0m \u001b[0mevent_name\u001b[0m\u001b[0;34m)\u001b[0m\u001b[0;34m\u001b[0m\u001b[0m\n\u001b[1;32m    153\u001b[0m             \u001b[0;32mfor\u001b[0m \u001b[0mfunc\u001b[0m\u001b[0;34m,\u001b[0m \u001b[0margs\u001b[0m\u001b[0;34m,\u001b[0m \u001b[0mkwargs\u001b[0m \u001b[0;32min\u001b[0m \u001b[0mself\u001b[0m\u001b[0;34m.\u001b[0m\u001b[0m_event_handlers\u001b[0m\u001b[0;34m[\u001b[0m\u001b[0mevent_name\u001b[0m\u001b[0;34m]\u001b[0m\u001b[0;34m:\u001b[0m\u001b[0;34m\u001b[0m\u001b[0m\n\u001b[0;32m--> 154\u001b[0;31m                 \u001b[0mfunc\u001b[0m\u001b[0;34m(\u001b[0m\u001b[0mself\u001b[0m\u001b[0;34m,\u001b[0m \u001b[0;34m*\u001b[0m\u001b[0;34m(\u001b[0m\u001b[0mevent_args\u001b[0m \u001b[0;34m+\u001b[0m \u001b[0margs\u001b[0m\u001b[0;34m)\u001b[0m\u001b[0;34m,\u001b[0m \u001b[0;34m**\u001b[0m\u001b[0mkwargs\u001b[0m\u001b[0;34m)\u001b[0m\u001b[0;34m\u001b[0m\u001b[0m\n\u001b[0m\u001b[1;32m    155\u001b[0m \u001b[0;34m\u001b[0m\u001b[0m\n\u001b[1;32m    156\u001b[0m     \u001b[0;32mdef\u001b[0m \u001b[0mterminate\u001b[0m\u001b[0;34m(\u001b[0m\u001b[0mself\u001b[0m\u001b[0;34m)\u001b[0m\u001b[0;34m:\u001b[0m\u001b[0;34m\u001b[0m\u001b[0m\n",
      "\u001b[0;32m~/.local/lib/python3.6/site-packages/ignite/metrics/metric.py\u001b[0m in \u001b[0;36miteration_completed\u001b[0;34m(self, engine)\u001b[0m\n\u001b[1;32m     64\u001b[0m     \u001b[0;32mdef\u001b[0m \u001b[0miteration_completed\u001b[0m\u001b[0;34m(\u001b[0m\u001b[0mself\u001b[0m\u001b[0;34m,\u001b[0m \u001b[0mengine\u001b[0m\u001b[0;34m)\u001b[0m\u001b[0;34m:\u001b[0m\u001b[0;34m\u001b[0m\u001b[0m\n\u001b[1;32m     65\u001b[0m         \u001b[0moutput\u001b[0m \u001b[0;34m=\u001b[0m \u001b[0mself\u001b[0m\u001b[0;34m.\u001b[0m\u001b[0m_output_transform\u001b[0m\u001b[0;34m(\u001b[0m\u001b[0mengine\u001b[0m\u001b[0;34m.\u001b[0m\u001b[0mstate\u001b[0m\u001b[0;34m.\u001b[0m\u001b[0moutput\u001b[0m\u001b[0;34m)\u001b[0m\u001b[0;34m\u001b[0m\u001b[0m\n\u001b[0;32m---> 66\u001b[0;31m         \u001b[0mself\u001b[0m\u001b[0;34m.\u001b[0m\u001b[0mupdate\u001b[0m\u001b[0;34m(\u001b[0m\u001b[0moutput\u001b[0m\u001b[0;34m)\u001b[0m\u001b[0;34m\u001b[0m\u001b[0m\n\u001b[0m\u001b[1;32m     67\u001b[0m \u001b[0;34m\u001b[0m\u001b[0m\n\u001b[1;32m     68\u001b[0m     \u001b[0;32mdef\u001b[0m \u001b[0mcompleted\u001b[0m\u001b[0;34m(\u001b[0m\u001b[0mself\u001b[0m\u001b[0;34m,\u001b[0m \u001b[0mengine\u001b[0m\u001b[0;34m,\u001b[0m \u001b[0mname\u001b[0m\u001b[0;34m)\u001b[0m\u001b[0;34m:\u001b[0m\u001b[0;34m\u001b[0m\u001b[0m\n",
      "\u001b[0;32m~/.local/lib/python3.6/site-packages/ignite/metrics/categorical_accuracy.py\u001b[0m in \u001b[0;36mupdate\u001b[0;34m(self, output)\u001b[0m\n\u001b[1;32m     22\u001b[0m         \u001b[0my_pred\u001b[0m\u001b[0;34m,\u001b[0m \u001b[0my\u001b[0m \u001b[0;34m=\u001b[0m \u001b[0moutput\u001b[0m\u001b[0;34m\u001b[0m\u001b[0m\n\u001b[1;32m     23\u001b[0m         \u001b[0mindices\u001b[0m \u001b[0;34m=\u001b[0m \u001b[0mtorch\u001b[0m\u001b[0;34m.\u001b[0m\u001b[0mmax\u001b[0m\u001b[0;34m(\u001b[0m\u001b[0my_pred\u001b[0m\u001b[0;34m,\u001b[0m \u001b[0;36m1\u001b[0m\u001b[0;34m)\u001b[0m\u001b[0;34m[\u001b[0m\u001b[0;36m1\u001b[0m\u001b[0;34m]\u001b[0m\u001b[0;34m\u001b[0m\u001b[0m\n\u001b[0;32m---> 24\u001b[0;31m         \u001b[0mcorrect\u001b[0m \u001b[0;34m=\u001b[0m \u001b[0mtorch\u001b[0m\u001b[0;34m.\u001b[0m\u001b[0meq\u001b[0m\u001b[0;34m(\u001b[0m\u001b[0mindices\u001b[0m\u001b[0;34m,\u001b[0m \u001b[0my\u001b[0m\u001b[0;34m)\u001b[0m\u001b[0;34m.\u001b[0m\u001b[0mview\u001b[0m\u001b[0;34m(\u001b[0m\u001b[0;34m-\u001b[0m\u001b[0;36m1\u001b[0m\u001b[0;34m)\u001b[0m\u001b[0;34m\u001b[0m\u001b[0m\n\u001b[0m\u001b[1;32m     25\u001b[0m         \u001b[0mself\u001b[0m\u001b[0;34m.\u001b[0m\u001b[0m_num_correct\u001b[0m \u001b[0;34m+=\u001b[0m \u001b[0mtorch\u001b[0m\u001b[0;34m.\u001b[0m\u001b[0msum\u001b[0m\u001b[0;34m(\u001b[0m\u001b[0mcorrect\u001b[0m\u001b[0;34m)\u001b[0m\u001b[0;34m.\u001b[0m\u001b[0mitem\u001b[0m\u001b[0;34m(\u001b[0m\u001b[0;34m)\u001b[0m\u001b[0;34m\u001b[0m\u001b[0m\n\u001b[1;32m     26\u001b[0m         \u001b[0mself\u001b[0m\u001b[0;34m.\u001b[0m\u001b[0m_num_examples\u001b[0m \u001b[0;34m+=\u001b[0m \u001b[0mcorrect\u001b[0m\u001b[0;34m.\u001b[0m\u001b[0mshape\u001b[0m\u001b[0;34m[\u001b[0m\u001b[0;36m0\u001b[0m\u001b[0;34m]\u001b[0m\u001b[0;34m\u001b[0m\u001b[0m\n",
      "\u001b[0;31mRuntimeError\u001b[0m: Expected object of type torch.cuda.LongTensor but found type torch.cuda.FloatTensor for argument #2 'other'"
     ]
    }
   ],
   "source": [
    "@trainer.on(Events.ITERATION_COMPLETED)\n",
    "def log_training_loss(engine):\n",
    "    iter = (engine.state.iteration - 1) % len(train_loader) + 1\n",
    "    if iter % log_interval == 0:\n",
    "        print(\"Epoch[{}] Iteration[{}/{}] Loss: {:.2f}\"\n",
    "              \"\".format(engine.state.epoch, iter, len(train_loader), engine.state.output))\n",
    "        writer.add_scalar(\"training/loss\", engine.state.output, engine.state.iteration)\n",
    "\n",
    "@trainer.on(Events.EPOCH_COMPLETED)\n",
    "def log_training_results(engine):\n",
    "    evaluator.run(train_loader)\n",
    "    metrics = evaluator.state.metrics\n",
    "    avg_accuracy = metrics['accuracy']\n",
    "    avg_cel = metrics['crossEntropyLoss']\n",
    "    avg_recall = metrics['recall']\n",
    "    avg_precision = metrics['precision']\n",
    "    print(\"Training Results - Epoch: {}  Avg accuracy: {:.2f} Avg loss: {:.2f} Recall {:.2f} Precision {:.2f}\"\n",
    "          .format(engine.state.epoch, avg_accuracy, avg_cel, avg_recall,avg_precision))\n",
    "    writer.add_scalar(\"training/avg_loss\", avg_cel, engine.state.epoch)\n",
    "    writer.add_scalar(\"training/avg_accuracy\", avg_accuracy, engine.state.epoch)\n",
    "\n",
    "@trainer.on(Events.EPOCH_COMPLETED)\n",
    "def log_validation_results(engine):\n",
    "    evaluator.run(val_loader)\n",
    "    metrics = evaluator.state.metrics\n",
    "    avg_accuracy = metrics['accuracy']\n",
    "    avg_cel = metrics['crossEntropyLoss']\n",
    "    avg_recall = metrics['recall']\n",
    "    avg_precision = metrics['precision']\n",
    "    print(\"Validation Results - Epoch: {}  Avg accuracy: {:.2f} Avg loss: {:.2f} Recall {:.2f} Precision {:.2f}\"\n",
    "          .format(engine.state.epoch, avg_accuracy, avg_cel, avg_recall,avg_precision))\n",
    "    writer.add_scalar(\"valdation/avg_loss\", avg_cel, engine.state.epoch)\n",
    "    writer.add_scalar(\"valdation/avg_accuracy\", avg_accuracy, engine.state.epoch)\n",
    "    writer.add_scalar(\"valdation/recall\", avg_recall, engine.state.epoch)\n",
    "    writer.add_scalar(\"valdation/precision\", avg_precision, engine.state.epoch)\n",
    "\n",
    "trainer.run(train_loader, max_epochs=epochs)\n",
    "writer.close()"
   ]
  },
  {
   "cell_type": "code",
   "execution_count": null,
   "metadata": {},
   "outputs": [],
   "source": []
  },
  {
   "cell_type": "code",
   "execution_count": null,
   "metadata": {},
   "outputs": [],
   "source": []
  },
  {
   "cell_type": "code",
   "execution_count": null,
   "metadata": {},
   "outputs": [],
   "source": []
  },
  {
   "cell_type": "code",
   "execution_count": null,
   "metadata": {},
   "outputs": [],
   "source": []
  },
  {
   "cell_type": "code",
   "execution_count": null,
   "metadata": {},
   "outputs": [],
   "source": []
  },
  {
   "cell_type": "code",
   "execution_count": null,
   "metadata": {},
   "outputs": [],
   "source": []
  },
  {
   "cell_type": "code",
   "execution_count": null,
   "metadata": {},
   "outputs": [],
   "source": []
  },
  {
   "cell_type": "code",
   "execution_count": 22,
   "metadata": {},
   "outputs": [],
   "source": [
    "from sklearn.metrics import recall_score,precision_score,f1_score\n",
    "\n",
    "def train( model, device, train_loader, optimizer, epoch):\n",
    "    model.train()\n",
    "    n_correct=0\n",
    "    n_total=0\n",
    "    for batch_idx, (data, target) in enumerate(train_loader):\n",
    "        data, target = data.to(device), target.long().to(device)\n",
    "        optimizer.zero_grad()\n",
    "        output = model(data)   \n",
    "        \n",
    "        loss = criterion(output, target)       \n",
    "        pred = output.max(1, keepdim=True)[1] # get the index of the max log-probability\n",
    "                \n",
    "        n_correct += pred.eq(target.view_as(pred)).sum().item()\n",
    "        n_total += len(data)\n",
    "        train_acc = 100. * n_correct/n_total\n",
    "        loss.backward()\n",
    "        optimizer.step()\n",
    "        for param_group in optimizer.param_groups:\n",
    "            learningrate=param_group['lr']\n",
    "        if (batch_idx + 1) % 1000 == 0:\n",
    "            \n",
    "            print('Train Epoch: {} [{}/{} ({:.0f}%)]\\tLoss: {:.6f} \\tTraining Accuracy:{:.0f}% \\tLearning Rate:{}'.format(\n",
    "            epoch, batch_idx * len(data), len(train_loader.dataset),\n",
    "            100. * batch_idx / len(train_loader), loss.item(),train_acc,learningrate))\n",
    "        \n",
    "    print('Train Epoch: {} [({:.0f}%)]\\tLoss: {:.6f} \\tTraining Accuracy:{:.0f}% \\tLearning Rate:{}'.format(\n",
    "        epoch, 100. * batch_idx / len(train_loader), loss.item(),train_acc,learningrate))\n",
    "    return train_acc,loss.item()\n",
    "            \n",
    "def test( model, device, test_loader):\n",
    "    model.eval()\n",
    "    test_loss = 0\n",
    "    correct = 0\n",
    "    totalpred=[]\n",
    "    totaltarget=[]\n",
    "    with torch.no_grad():\n",
    "        for data, target in test_loader:\n",
    "            \n",
    "            data, target = data.to(device), target.long().to(device)\n",
    "            output = model(data)\n",
    "            test_loss += criterion(output, target)\n",
    "            \n",
    "            pred = output.max(1, keepdim=True)[1] # get the index of the max log-probability\n",
    "            correct += pred.eq(target.view_as(pred)).sum().item()\n",
    "            totaltarget.append(target.cpu().numpy().squeeze())\n",
    "            totalpred.append(pred.cpu().numpy().squeeze())\n",
    "             \n",
    "        y_true=np.array(totaltarget)\n",
    "        y_pred=np.array(totalpred)   \n",
    "        recall=recall_score(y_true, y_pred, average='micro') \n",
    "        precision=precision_score(y_true, y_pred, average='micro') \n",
    "        f1score=f1_score(y_true, y_pred, average='micro') \n",
    "        \n",
    "        recall_group=recall_score(y_true, y_pred,average=None) \n",
    "    test_acc=100. * correct / len(test_loader.dataset)\n",
    "    test_loss /= len(test_loader.dataset)\n",
    "    print('\\nTest set:  Accuracy: {}/{} ({:.0f}%), Recall: {:.4f}, Precison: {}, F1 Score: {} \\n'.format(\n",
    "         correct, len(test_loader.dataset),test_acc,recall,precision,f1score))\n",
    "\n",
    "    return test_acc,test_loss,recall_group"
   ]
  },
  {
   "cell_type": "code",
   "execution_count": null,
   "metadata": {},
   "outputs": [],
   "source": []
  },
  {
   "cell_type": "code",
   "execution_count": 23,
   "metadata": {
    "scrolled": true
   },
   "outputs": [
    {
     "name": "stderr",
     "output_type": "stream",
     "text": [
      "/home/bgueni/anaconda3/lib/python3.6/site-packages/skimage/transform/_warps.py:84: UserWarning: The default mode, 'constant', will be changed to 'reflect' in skimage 0.15.\n",
      "  warn(\"The default mode, 'constant', will be changed to 'reflect' in \"\n",
      "/home/bgueni/anaconda3/lib/python3.6/site-packages/skimage/transform/_warps.py:84: UserWarning: The default mode, 'constant', will be changed to 'reflect' in skimage 0.15.\n",
      "  warn(\"The default mode, 'constant', will be changed to 'reflect' in \"\n",
      "/home/bgueni/anaconda3/lib/python3.6/site-packages/skimage/transform/_warps.py:84: UserWarning: The default mode, 'constant', will be changed to 'reflect' in skimage 0.15.\n",
      "  warn(\"The default mode, 'constant', will be changed to 'reflect' in \"\n",
      "/home/bgueni/anaconda3/lib/python3.6/site-packages/skimage/transform/_warps.py:84: UserWarning: The default mode, 'constant', will be changed to 'reflect' in skimage 0.15.\n",
      "  warn(\"The default mode, 'constant', will be changed to 'reflect' in \"\n"
     ]
    },
    {
     "name": "stdout",
     "output_type": "stream",
     "text": [
      "Train Epoch: 0 [14985/84027 (18%)]\tLoss: 2.885078 \tTraining Accuracy:24% \tLearning Rate:0.001\n",
      "Train Epoch: 0 [29985/84027 (36%)]\tLoss: 2.803012 \tTraining Accuracy:33% \tLearning Rate:0.001\n",
      "Train Epoch: 0 [44985/84027 (54%)]\tLoss: 1.575239 \tTraining Accuracy:38% \tLearning Rate:0.001\n",
      "Train Epoch: 0 [59985/84027 (71%)]\tLoss: 1.598436 \tTraining Accuracy:42% \tLearning Rate:0.001\n",
      "Train Epoch: 0 [74985/84027 (89%)]\tLoss: 1.261168 \tTraining Accuracy:45% \tLearning Rate:0.001\n",
      "Train Epoch: 0 [(100%)]\tLoss: 0.717660 \tTraining Accuracy:46% \tLearning Rate:0.001\n"
     ]
    },
    {
     "name": "stderr",
     "output_type": "stream",
     "text": [
      "/home/bgueni/anaconda3/lib/python3.6/site-packages/skimage/transform/_warps.py:84: UserWarning: The default mode, 'constant', will be changed to 'reflect' in skimage 0.15.\n",
      "  warn(\"The default mode, 'constant', will be changed to 'reflect' in \"\n",
      "/home/bgueni/anaconda3/lib/python3.6/site-packages/skimage/transform/_warps.py:84: UserWarning: The default mode, 'constant', will be changed to 'reflect' in skimage 0.15.\n",
      "  warn(\"The default mode, 'constant', will be changed to 'reflect' in \"\n",
      "/home/bgueni/anaconda3/lib/python3.6/site-packages/skimage/transform/_warps.py:84: UserWarning: The default mode, 'constant', will be changed to 'reflect' in skimage 0.15.\n",
      "  warn(\"The default mode, 'constant', will be changed to 'reflect' in \"\n",
      "/home/bgueni/anaconda3/lib/python3.6/site-packages/skimage/transform/_warps.py:84: UserWarning: The default mode, 'constant', will be changed to 'reflect' in skimage 0.15.\n",
      "  warn(\"The default mode, 'constant', will be changed to 'reflect' in \"\n"
     ]
    },
    {
     "name": "stdout",
     "output_type": "stream",
     "text": [
      "\n",
      "Test set:  Accuracy: 12942/20956 (62%), Recall: 0.6176, Precison: 0.6175796907806833, F1 Score: 0.6175796907806833 \n",
      "\n"
     ]
    },
    {
     "ename": "NameError",
     "evalue": "name 'accuracy3' is not defined",
     "output_type": "error",
     "traceback": [
      "\u001b[0;31m---------------------------------------------------------------------------\u001b[0m",
      "\u001b[0;31mNameError\u001b[0m                                 Traceback (most recent call last)",
      "\u001b[0;32m<ipython-input-23-b8ecd006b4d1>\u001b[0m in \u001b[0;36m<module>\u001b[0;34m()\u001b[0m\n\u001b[1;32m      7\u001b[0m     \u001b[0macc_test\u001b[0m\u001b[0;34m,\u001b[0m\u001b[0mloss_test\u001b[0m\u001b[0;34m,\u001b[0m\u001b[0mrecall\u001b[0m\u001b[0;34m=\u001b[0m\u001b[0mtest\u001b[0m\u001b[0;34m(\u001b[0m \u001b[0mc3d\u001b[0m\u001b[0;34m,\u001b[0m \u001b[0mdevice\u001b[0m\u001b[0;34m,\u001b[0m \u001b[0mtest_loader\u001b[0m\u001b[0;34m)\u001b[0m\u001b[0;34m\u001b[0m\u001b[0m\n\u001b[1;32m      8\u001b[0m     \u001b[0mend\u001b[0m \u001b[0;34m=\u001b[0m \u001b[0mtime\u001b[0m\u001b[0;34m.\u001b[0m\u001b[0mclock\u001b[0m\u001b[0;34m(\u001b[0m\u001b[0;34m)\u001b[0m\u001b[0;34m\u001b[0m\u001b[0m\n\u001b[0;32m----> 9\u001b[0;31m     \u001b[0maccuracy3\u001b[0m\u001b[0;34m.\u001b[0m\u001b[0mloc\u001b[0m\u001b[0;34m[\u001b[0m\u001b[0mepoch\u001b[0m\u001b[0;34m,\u001b[0m\u001b[0;34m:\u001b[0m\u001b[0;34m]\u001b[0m\u001b[0;34m=\u001b[0m\u001b[0;34m[\u001b[0m\u001b[0macc_train\u001b[0m\u001b[0;34m,\u001b[0m\u001b[0macc_test\u001b[0m\u001b[0;34m]\u001b[0m\u001b[0;34m\u001b[0m\u001b[0m\n\u001b[0m\u001b[1;32m     10\u001b[0m     \u001b[0mtiming\u001b[0m\u001b[0;34m.\u001b[0m\u001b[0mloc\u001b[0m\u001b[0;34m[\u001b[0m\u001b[0mepoch\u001b[0m\u001b[0;34m,\u001b[0m\u001b[0;34m:\u001b[0m\u001b[0;34m]\u001b[0m\u001b[0;34m=\u001b[0m\u001b[0;34m[\u001b[0m\u001b[0mstart\u001b[0m\u001b[0;34m-\u001b[0m\u001b[0mend\u001b[0m\u001b[0;34m]\u001b[0m\u001b[0;34m\u001b[0m\u001b[0m\n\u001b[1;32m     11\u001b[0m     \u001b[0mloss3\u001b[0m\u001b[0;34m.\u001b[0m\u001b[0mloc\u001b[0m\u001b[0;34m[\u001b[0m\u001b[0mepoch\u001b[0m\u001b[0;34m,\u001b[0m\u001b[0;34m:\u001b[0m\u001b[0;34m]\u001b[0m\u001b[0;34m=\u001b[0m\u001b[0;34m[\u001b[0m\u001b[0mloss_train\u001b[0m\u001b[0;34m,\u001b[0m\u001b[0mloss_test\u001b[0m\u001b[0;34m]\u001b[0m\u001b[0;34m\u001b[0m\u001b[0m\n",
      "\u001b[0;31mNameError\u001b[0m: name 'accuracy3' is not defined"
     ]
    }
   ],
   "source": [
    "\n",
    "epochs = 3\n",
    "for epoch in range(0, epochs):\n",
    "    start = time.clock()\n",
    "    scheduler.step()\n",
    "    acc_train,loss_train=train( c3d, device, train_loader, optimizer,epoch)\n",
    "    acc_test,loss_test,recall=test( c3d, device, test_loader)\n",
    "    end = time.clock()\n",
    "    accuracy3.loc[epoch,:]=[acc_train,acc_test]\n",
    "    timing.loc[epoch,:]=[start-end]\n",
    "    loss3.loc[epoch,:]=[loss_train,loss_test]\n",
    "    recall3.loc[epoch,:]=recall\n",
    "    "
   ]
  },
  {
   "cell_type": "code",
   "execution_count": 185,
   "metadata": {},
   "outputs": [],
   "source": [
    "torch.save({\n",
    "  'state_dict': c3d.state_dict()\n",
    "}, '../models/PlanctonTara_c156_upgrades.pt')"
   ]
  },
  {
   "cell_type": "code",
   "execution_count": 234,
   "metadata": {},
   "outputs": [
    {
     "name": "stdout",
     "output_type": "stream",
     "text": [
      "Train Epoch: 5 [14985/84027 (18%)]\tLoss: 0.614829 \tTraining Accuracy:76% \tLearning Rate:0.001\n",
      "Train Epoch: 5 [29985/84027 (36%)]\tLoss: 0.297347 \tTraining Accuracy:75% \tLearning Rate:0.001\n",
      "Train Epoch: 5 [44985/84027 (54%)]\tLoss: 0.572698 \tTraining Accuracy:75% \tLearning Rate:0.001\n",
      "Train Epoch: 5 [59985/84027 (71%)]\tLoss: 0.713374 \tTraining Accuracy:75% \tLearning Rate:0.001\n",
      "Train Epoch: 5 [74985/84027 (89%)]\tLoss: 0.609243 \tTraining Accuracy:75% \tLearning Rate:0.001\n",
      "Train Epoch: 5 [67212/84027 (100%)]\tLoss: 0.462370 \tTraining Accuracy:75% \tLearning Rate:0.001\n",
      "\n",
      "Test set: , Accuracy: 15644/20956 (75%),Recall: 0.7465\n",
      "\n",
      "Train Epoch: 6 [14985/84027 (18%)]\tLoss: 0.542043 \tTraining Accuracy:77% \tLearning Rate:0.001\n",
      "Train Epoch: 6 [29985/84027 (36%)]\tLoss: 0.717838 \tTraining Accuracy:77% \tLearning Rate:0.001\n",
      "Train Epoch: 6 [44985/84027 (54%)]\tLoss: 0.749439 \tTraining Accuracy:77% \tLearning Rate:0.001\n",
      "Train Epoch: 6 [59985/84027 (71%)]\tLoss: 0.271600 \tTraining Accuracy:76% \tLearning Rate:0.001\n",
      "Train Epoch: 6 [74985/84027 (89%)]\tLoss: 1.165843 \tTraining Accuracy:76% \tLearning Rate:0.001\n",
      "Train Epoch: 6 [67212/84027 (100%)]\tLoss: 1.264409 \tTraining Accuracy:76% \tLearning Rate:0.001\n",
      "\n",
      "Test set: , Accuracy: 15449/20956 (74%),Recall: 0.7372\n",
      "\n",
      "Train Epoch: 7 [14985/84027 (18%)]\tLoss: 0.693868 \tTraining Accuracy:78% \tLearning Rate:0.001\n",
      "Train Epoch: 7 [29985/84027 (36%)]\tLoss: 0.617669 \tTraining Accuracy:78% \tLearning Rate:0.001\n",
      "Train Epoch: 7 [44985/84027 (54%)]\tLoss: 0.646627 \tTraining Accuracy:78% \tLearning Rate:0.001\n",
      "Train Epoch: 7 [59985/84027 (71%)]\tLoss: 1.080791 \tTraining Accuracy:78% \tLearning Rate:0.001\n",
      "Train Epoch: 7 [74985/84027 (89%)]\tLoss: 0.857327 \tTraining Accuracy:78% \tLearning Rate:0.001\n",
      "Train Epoch: 7 [67212/84027 (100%)]\tLoss: 0.353820 \tTraining Accuracy:78% \tLearning Rate:0.001\n",
      "\n",
      "Test set: , Accuracy: 16010/20956 (76%),Recall: 0.7640\n",
      "\n"
     ]
    }
   ],
   "source": [
    "epochs = 8\n",
    "for epoch in range(5, epochs):\n",
    "    start = time.clock()\n",
    "    scheduler.step()\n",
    "    acc_train,loss_train=train( c3d, device, train_loader, optimizer,epoch)\n",
    "    acc_test,loss_test=test( c3d, device, test_loader)\n",
    "    end = time.clock()\n",
    "    accuracy3.loc[epoch,:]=[acc_train,acc_test]\n",
    "    timing.loc[epoch,:]=[start-end]\n",
    "    loss3.loc[epoch,:]=[loss_train,loss_test]"
   ]
  },
  {
   "cell_type": "code",
   "execution_count": 25,
   "metadata": {},
   "outputs": [],
   "source": [
    "#Loading the model with Parallel*\n",
    "weights=torch.load('../models/PlanctonTara_c156_lr10.pt')\n",
    "c3d.load_state_dict(weights['state_dict'])"
   ]
  },
  {
   "cell_type": "code",
   "execution_count": 26,
   "metadata": {},
   "outputs": [],
   "source": [
    "import pandas as pd\n",
    "accuracy3 = pd.DataFrame( columns=['TrainingAcc','TestingAcc'])\n",
    "loss3 = pd.DataFrame( columns=['TrainingLoss','TestingLoss'])\n",
    "recall3= pd.DataFrame( columns=['TestingRecall'])\n",
    "timing = pd.DataFrame( columns=['Time'])\n"
   ]
  },
  {
   "cell_type": "code",
   "execution_count": 27,
   "metadata": {},
   "outputs": [],
   "source": [
    "accuracy3.loc[0,:]=[50.0899,25.95]\n",
    "accuracy3.loc[1,:]=[64.9648,37.05]\n",
    "accuracy3.loc[2,:]=[69.0921,46.35]\n",
    "accuracy3.loc[3,:]=[71.6496,52.7]\n",
    "accuracy3.loc[4,:]=[73.3538,73.5207]\n",
    "accuracy3.loc[5,:]=[75.0461,74.6517]\n",
    "accuracy3.loc[6,:]=[76.4326,73.7211]\n",
    "accuracy3.loc[7,:]=[77.6929,76.3982]\n",
    "accuracy3.loc[8,:]=[79.4019,76.3982]\n",
    "accuracy3.loc[9,:]=[80.6372,74.3224]\n",
    "accuracy3.loc[10,:]=[82.0355,75.5297]\n",
    "accuracy3.loc[11,:]=[88.5834,77.949]"
   ]
  },
  {
   "cell_type": "code",
   "execution_count": 240,
   "metadata": {},
   "outputs": [],
   "source": [
    "torch.save({\n",
    "  'state_dict': c3d.state_dict()\n",
    "}, '../models/PlanctonTara_c156.pt')"
   ]
  },
  {
   "cell_type": "code",
   "execution_count": 43,
   "metadata": {
    "scrolled": true
   },
   "outputs": [
    {
     "data": {
      "text/html": [
       "<div>\n",
       "<style scoped>\n",
       "    .dataframe tbody tr th:only-of-type {\n",
       "        vertical-align: middle;\n",
       "    }\n",
       "\n",
       "    .dataframe tbody tr th {\n",
       "        vertical-align: top;\n",
       "    }\n",
       "\n",
       "    .dataframe thead th {\n",
       "        text-align: right;\n",
       "    }\n",
       "</style>\n",
       "<table border=\"1\" class=\"dataframe\">\n",
       "  <thead>\n",
       "    <tr style=\"text-align: right;\">\n",
       "      <th></th>\n",
       "      <th>TrainingAcc</th>\n",
       "      <th>TestingAcc</th>\n",
       "    </tr>\n",
       "  </thead>\n",
       "  <tbody>\n",
       "    <tr>\n",
       "      <th>0</th>\n",
       "      <td>50.0899</td>\n",
       "      <td>25.95</td>\n",
       "    </tr>\n",
       "    <tr>\n",
       "      <th>1</th>\n",
       "      <td>64.9648</td>\n",
       "      <td>37.05</td>\n",
       "    </tr>\n",
       "    <tr>\n",
       "      <th>2</th>\n",
       "      <td>69.0921</td>\n",
       "      <td>46.35</td>\n",
       "    </tr>\n",
       "    <tr>\n",
       "      <th>3</th>\n",
       "      <td>71.6496</td>\n",
       "      <td>52.7</td>\n",
       "    </tr>\n",
       "    <tr>\n",
       "      <th>4</th>\n",
       "      <td>73.3538</td>\n",
       "      <td>73.5207</td>\n",
       "    </tr>\n",
       "    <tr>\n",
       "      <th>5</th>\n",
       "      <td>75.0461</td>\n",
       "      <td>74.6517</td>\n",
       "    </tr>\n",
       "    <tr>\n",
       "      <th>6</th>\n",
       "      <td>76.4326</td>\n",
       "      <td>73.7211</td>\n",
       "    </tr>\n",
       "    <tr>\n",
       "      <th>7</th>\n",
       "      <td>77.6929</td>\n",
       "      <td>76.3982</td>\n",
       "    </tr>\n",
       "    <tr>\n",
       "      <th>8</th>\n",
       "      <td>79.4019</td>\n",
       "      <td>76.3982</td>\n",
       "    </tr>\n",
       "    <tr>\n",
       "      <th>9</th>\n",
       "      <td>80.6372</td>\n",
       "      <td>74.3224</td>\n",
       "    </tr>\n",
       "    <tr>\n",
       "      <th>10</th>\n",
       "      <td>82.0355</td>\n",
       "      <td>75.5297</td>\n",
       "    </tr>\n",
       "    <tr>\n",
       "      <th>11</th>\n",
       "      <td>88.5834</td>\n",
       "      <td>77.949</td>\n",
       "    </tr>\n",
       "    <tr>\n",
       "      <th>12</th>\n",
       "      <td>90.7851</td>\n",
       "      <td>77.8345</td>\n",
       "    </tr>\n",
       "    <tr>\n",
       "      <th>13</th>\n",
       "      <td>92.243</td>\n",
       "      <td>77.5577</td>\n",
       "    </tr>\n",
       "    <tr>\n",
       "      <th>14</th>\n",
       "      <td>93.4485</td>\n",
       "      <td>77.2428</td>\n",
       "    </tr>\n",
       "    <tr>\n",
       "      <th>15</th>\n",
       "      <td>95.1658</td>\n",
       "      <td>77.4814</td>\n",
       "    </tr>\n",
       "  </tbody>\n",
       "</table>\n",
       "</div>"
      ],
      "text/plain": [
       "   TrainingAcc TestingAcc\n",
       "0      50.0899      25.95\n",
       "1      64.9648      37.05\n",
       "2      69.0921      46.35\n",
       "3      71.6496       52.7\n",
       "4      73.3538    73.5207\n",
       "5      75.0461    74.6517\n",
       "6      76.4326    73.7211\n",
       "7      77.6929    76.3982\n",
       "8      79.4019    76.3982\n",
       "9      80.6372    74.3224\n",
       "10     82.0355    75.5297\n",
       "11     88.5834     77.949\n",
       "12     90.7851    77.8345\n",
       "13      92.243    77.5577\n",
       "14     93.4485    77.2428\n",
       "15     95.1658    77.4814"
      ]
     },
     "execution_count": 43,
     "metadata": {},
     "output_type": "execute_result"
    }
   ],
   "source": [
    "accuracy3"
   ]
  },
  {
   "cell_type": "code",
   "execution_count": 44,
   "metadata": {},
   "outputs": [
    {
     "data": {
      "text/plain": [
       "<matplotlib.axes._subplots.AxesSubplot at 0x7f99217df5f8>"
      ]
     },
     "execution_count": 44,
     "metadata": {},
     "output_type": "execute_result"
    },
    {
     "data": {
      "text/plain": [
       "<Figure size 432x288 with 0 Axes>"
      ]
     },
     "metadata": {},
     "output_type": "display_data"
    },
    {
     "data": {
      "image/png": "[encoded data removed]",
      "text/plain": [
       "<Figure size 432x288 with 1 Axes>"
      ]
     },
     "metadata": {},
     "output_type": "display_data"
    }
   ],
   "source": [
    "import matplotlib.pyplot as plt\n",
    "plt.figure()\n",
    "accuracy3.plot()\n"
   ]
  },
  {
   "cell_type": "code",
   "execution_count": 37,
   "metadata": {},
   "outputs": [],
   "source": [
    "scheduler = MultiStepLR(optimizer, milestones=[10,15,20,25], gamma=0.1)"
   ]
  },
  {
   "cell_type": "code",
   "execution_count": 38,
   "metadata": {},
   "outputs": [],
   "source": [
    "for i in range(15):\n",
    "    scheduler.step()"
   ]
  },
  {
   "cell_type": "code",
   "execution_count": 33,
   "metadata": {},
   "outputs": [
    {
     "name": "stdout",
     "output_type": "stream",
     "text": [
      "Train Epoch: 12 [14985/84027 (18%)]\tLoss: 0.385262 \tTraining Accuracy:91% \tLearning Rate:0.0001\n",
      "Train Epoch: 12 [29985/84027 (36%)]\tLoss: 0.301848 \tTraining Accuracy:91% \tLearning Rate:0.0001\n",
      "Train Epoch: 12 [44985/84027 (54%)]\tLoss: 0.292516 \tTraining Accuracy:91% \tLearning Rate:0.0001\n",
      "Train Epoch: 12 [59985/84027 (71%)]\tLoss: 0.195622 \tTraining Accuracy:91% \tLearning Rate:0.0001\n",
      "Train Epoch: 12 [74985/84027 (89%)]\tLoss: 0.057323 \tTraining Accuracy:91% \tLearning Rate:0.0001\n",
      "Train Epoch: 12 [(100%)]\tLoss: 0.120172 \tTraining Accuracy:91% \tLearning Rate:0.0001\n",
      "\n",
      "Test set:  Accuracy: 16311/20956 (78%),Recall: 0.7783\n",
      "\n",
      "Train Epoch: 13 [14985/84027 (18%)]\tLoss: 0.101033 \tTraining Accuracy:92% \tLearning Rate:0.0001\n",
      "Train Epoch: 13 [29985/84027 (36%)]\tLoss: 0.158604 \tTraining Accuracy:92% \tLearning Rate:0.0001\n",
      "Train Epoch: 13 [44985/84027 (54%)]\tLoss: 0.244513 \tTraining Accuracy:92% \tLearning Rate:0.0001\n",
      "Train Epoch: 13 [59985/84027 (71%)]\tLoss: 0.213521 \tTraining Accuracy:92% \tLearning Rate:0.0001\n",
      "Train Epoch: 13 [74985/84027 (89%)]\tLoss: 0.342395 \tTraining Accuracy:92% \tLearning Rate:0.0001\n",
      "Train Epoch: 13 [(100%)]\tLoss: 0.542894 \tTraining Accuracy:92% \tLearning Rate:0.0001\n",
      "\n",
      "Test set:  Accuracy: 16253/20956 (78%),Recall: 0.7756\n",
      "\n",
      "Train Epoch: 14 [14985/84027 (18%)]\tLoss: 0.290625 \tTraining Accuracy:94% \tLearning Rate:0.0001\n",
      "Train Epoch: 14 [29985/84027 (36%)]\tLoss: 0.659146 \tTraining Accuracy:93% \tLearning Rate:0.0001\n",
      "Train Epoch: 14 [44985/84027 (54%)]\tLoss: 0.158716 \tTraining Accuracy:93% \tLearning Rate:0.0001\n",
      "Train Epoch: 14 [59985/84027 (71%)]\tLoss: 0.054777 \tTraining Accuracy:93% \tLearning Rate:0.0001\n",
      "Train Epoch: 14 [74985/84027 (89%)]\tLoss: 0.476303 \tTraining Accuracy:93% \tLearning Rate:0.0001\n",
      "Train Epoch: 14 [(100%)]\tLoss: 0.136039 \tTraining Accuracy:93% \tLearning Rate:0.0001\n",
      "\n",
      "Test set:  Accuracy: 16187/20956 (77%),Recall: 0.7724\n",
      "\n"
     ]
    }
   ],
   "source": [
    "epochs = 15\n",
    "for epoch in range(12, epochs):\n",
    "    start = time.clock()\n",
    "    scheduler.step()\n",
    "    acc_train,loss_train=train( c3d, device, train_loader, optimizer,epoch)\n",
    "    acc_test,loss_test=test( c3d, device, test_loader)\n",
    "    end = time.clock()\n",
    "    accuracy3.loc[epoch,:]=[acc_train,acc_test]\n",
    "    timing.loc[epoch,:]=[start-end]\n",
    "    loss3.loc[epoch,:]=[loss_train,loss_test]"
   ]
  },
  {
   "cell_type": "code",
   "execution_count": 41,
   "metadata": {},
   "outputs": [
    {
     "data": {
      "text/plain": [
       "[1.0000000000000003e-05]"
      ]
     },
     "execution_count": 41,
     "metadata": {},
     "output_type": "execute_result"
    }
   ],
   "source": [
    "scheduler.get_lr()"
   ]
  },
  {
   "cell_type": "code",
   "execution_count": 36,
   "metadata": {},
   "outputs": [],
   "source": [
    "torch.save({\n",
    "  'state_dict': c3d.state_dict()\n",
    "}, '../models/PlanctonTara_c156_lr10_15.pt')"
   ]
  },
  {
   "cell_type": "code",
   "execution_count": 42,
   "metadata": {},
   "outputs": [
    {
     "name": "stdout",
     "output_type": "stream",
     "text": [
      "Train Epoch: 15 [14985/84027 (18%)]\tLoss: 0.012203 \tTraining Accuracy:95% \tLearning Rate:1.0000000000000003e-05\n",
      "Train Epoch: 15 [29985/84027 (36%)]\tLoss: 0.353945 \tTraining Accuracy:95% \tLearning Rate:1.0000000000000003e-05\n",
      "Train Epoch: 15 [44985/84027 (54%)]\tLoss: 0.328001 \tTraining Accuracy:95% \tLearning Rate:1.0000000000000003e-05\n",
      "Train Epoch: 15 [59985/84027 (71%)]\tLoss: 0.198083 \tTraining Accuracy:95% \tLearning Rate:1.0000000000000003e-05\n",
      "Train Epoch: 15 [74985/84027 (89%)]\tLoss: 0.467076 \tTraining Accuracy:95% \tLearning Rate:1.0000000000000003e-05\n",
      "Train Epoch: 15 [(100%)]\tLoss: 0.029734 \tTraining Accuracy:95% \tLearning Rate:1.0000000000000003e-05\n",
      "\n",
      "Test set:  Accuracy: 16237/20956 (77%),Recall: 0.7748\n",
      "\n"
     ]
    }
   ],
   "source": [
    "epochs = 16\n",
    "for epoch in range(15, epochs):\n",
    "    start = time.clock()\n",
    "    scheduler.step()\n",
    "    acc_train,loss_train=train( c3d, device, train_loader, optimizer,epoch)\n",
    "    acc_test,loss_test,recall_macro=test( c3d, device, test_loader)\n",
    "    end = time.clock()\n",
    "    accuracy3.loc[epoch,:]=[acc_train,acc_test]\n",
    "    timing.loc[epoch,:]=[start-end]\n",
    "    loss3.loc[epoch,:]=[loss_train,loss_test]"
   ]
  },
  {
   "cell_type": "code",
   "execution_count": 58,
   "metadata": {},
   "outputs": [
    {
     "name": "stdout",
     "output_type": "stream",
     "text": [
      "\n",
      "Test set:  Accuracy: 16237/20956 (77%), Recall: 0.7748, Precison: 0.7748138957816377, F1 Score: 0.7748138957816377 \n",
      "\n"
     ]
    },
    {
     "name": "stderr",
     "output_type": "stream",
     "text": [
      "/home/bgueni/anaconda3/lib/python3.6/site-packages/sklearn/metrics/classification.py:1137: UndefinedMetricWarning: Recall is ill-defined and being set to 0.0 in labels with no true samples.\n",
      "  'recall', 'true', average, warn_for)\n"
     ]
    }
   ],
   "source": [
    "acc_test,loss_test,recall_group=test( c3d, device, test_loader)"
   ]
  },
  {
   "cell_type": "code",
   "execution_count": 53,
   "metadata": {},
   "outputs": [],
   "source": [
    "y_true = [0, 1, 2, 0, 1, 2]\n",
    "y_pred = [0, 2, 1, 0, 0, 1]\n",
    "recall_group=recall_score(y_true, y_pred,average=None) "
   ]
  },
  {
   "cell_type": "code",
   "execution_count": 75,
   "metadata": {},
   "outputs": [],
   "source": [
    "out156=list(zip(hierclasses3,recall_group))\n",
    "out156df=pd.DataFrame(out156)\n",
    "out156df.to_excel(\"out-156.xls\")"
   ]
  },
  {
   "cell_type": "code",
   "execution_count": 76,
   "metadata": {},
   "outputs": [],
   "source": [
    "torch.save({\n",
    "  'state_dict': c3d.state_dict()\n",
    "}, '../models/PlanctonTara_c156_lr_16.pt')"
   ]
  },
  {
   "cell_type": "markdown",
   "metadata": {},
   "source": [
    "## Living or Not Living ##"
   ]
  },
  {
   "cell_type": "code",
   "execution_count": 188,
   "metadata": {},
   "outputs": [],
   "source": [
    "use_cuda =  torch.cuda.is_available()\n",
    "device = torch.device(\"cuda\" if use_cuda else \"cpu\")\n",
    "kwargs = {'num_workers': 10, 'pin_memory': True} if use_cuda else {}\n",
    "total=84027\n",
    "BS = 15\n",
    "outputsize=len(hierclasses1)"
   ]
  },
  {
   "cell_type": "code",
   "execution_count": 189,
   "metadata": {},
   "outputs": [],
   "source": [
    "train_loader = data.DataLoader(plancton3DDataset(gifList=trainlist,\n",
    "                                          rootDir=\"../taraImages/\",\n",
    "                                          channels=1,timeDepth=16,xSize=112,ySize=112,\n",
    "                                          startFrame=0,endFrame=15,numFilters=3,filters=[2,3,4],\n",
    "                                          keys=hierclasses1,classes_transf=classes_transf,transfpos=0,\n",
    "                                          colmean=[253.63723244,252.92530955,157.54144258],\n",
    "                                          colstddev=[255,255,255]), \n",
    "                               batch_size=BS, shuffle=True, collate_fn=ucf_collate, **kwargs)"
   ]
  },
  {
   "cell_type": "code",
   "execution_count": 190,
   "metadata": {},
   "outputs": [],
   "source": [
    "test_loader = data.DataLoader(plancton3DDataset(gifList=testlist,\n",
    "                                          rootDir=\"../taraImages/\",\n",
    "                                          channels=1,timeDepth=16,xSize=112,ySize=112,\n",
    "                                          startFrame=0,endFrame=15,numFilters=3,filters=[2,3,4],\n",
    "                                          keys=hierclasses1,classes_transf=classes_transf,transfpos=0,\n",
    "                                          colmean=[254.52891592, 253.83549938, 157.98975485],\n",
    "                                          colstddev=[255,255,255]), \n",
    "                              batch_size=1, shuffle=True, collate_fn=ucf_collate, **kwargs)"
   ]
  },
  {
   "cell_type": "code",
   "execution_count": 191,
   "metadata": {},
   "outputs": [],
   "source": [
    "accuracy3 = pd.DataFrame( columns=['TrainingAcc','TestingAcc'])\n",
    "loss3 = pd.DataFrame( columns=['TrainingLoss','TestingLoss'])\n",
    "recall3= pd.DataFrame( columns=['TestingRecall'])\n",
    "timing = pd.DataFrame( columns=['Time'])"
   ]
  },
  {
   "cell_type": "code",
   "execution_count": 192,
   "metadata": {},
   "outputs": [],
   "source": [
    "from torch.optim import lr_scheduler\n",
    "from torchvision.models  import *\n",
    "from torch.optim.lr_scheduler import MultiStepLR\n",
    "#model_alex = vgg11(num_classes=10).to(device)\n",
    "import torch.backends.cudnn as cudnn\n",
    "\n",
    "if use_cuda:\n",
    "    c3d.cuda()\n",
    "    c3d = torch.nn.DataParallel(c3d, device_ids=range(torch.cuda.device_count()))\n",
    "    cudnn.benchmark = True\n",
    " \n",
    "\n",
    "optimizer = torch.optim.SGD(c3d.parameters(), lr=0.001, momentum=0.9, weight_decay=0.0001)\n",
    "criterion = nn.CrossEntropyLoss()\n",
    "scheduler = MultiStepLR(optimizer, milestones=[10,15,20,28], gamma=0.1)"
   ]
  },
  {
   "cell_type": "code",
   "execution_count": 207,
   "metadata": {},
   "outputs": [
    {
     "name": "stdout",
     "output_type": "stream",
     "text": [
      "Train Epoch: 5 [14985/84027 (18%)]\tLoss: 0.475663 \tTraining Accuracy:87% \tLearning Rate:0.001\n",
      "Train Epoch: 5 [29985/84027 (36%)]\tLoss: 0.295491 \tTraining Accuracy:87% \tLearning Rate:0.001\n",
      "Train Epoch: 5 [44985/84027 (54%)]\tLoss: 0.160385 \tTraining Accuracy:87% \tLearning Rate:0.001\n",
      "Train Epoch: 5 [59985/84027 (71%)]\tLoss: 0.095688 \tTraining Accuracy:87% \tLearning Rate:0.001\n",
      "Train Epoch: 5 [74985/84027 (89%)]\tLoss: 0.231538 \tTraining Accuracy:87% \tLearning Rate:0.001\n",
      "Train Epoch: 5 [(100%)]\tLoss: 0.468735 \tTraining Accuracy:87% \tLearning Rate:0.001\n",
      "\n",
      "Test set:  Accuracy: 18297/20956 (87%), Recall: 0.8731, Precison: 0.8731150983012025, F1 Score: 0.8731150983012025 \n",
      "\n",
      "Train Epoch: 6 [14985/84027 (18%)]\tLoss: 0.215710 \tTraining Accuracy:88% \tLearning Rate:0.001\n",
      "Train Epoch: 6 [29985/84027 (36%)]\tLoss: 0.294006 \tTraining Accuracy:88% \tLearning Rate:0.001\n",
      "Train Epoch: 6 [44985/84027 (54%)]\tLoss: 0.239123 \tTraining Accuracy:88% \tLearning Rate:0.001\n",
      "Train Epoch: 6 [59985/84027 (71%)]\tLoss: 0.144675 \tTraining Accuracy:88% \tLearning Rate:0.001\n",
      "Train Epoch: 6 [74985/84027 (89%)]\tLoss: 0.643816 \tTraining Accuracy:88% \tLearning Rate:0.001\n",
      "Train Epoch: 6 [(100%)]\tLoss: 0.223441 \tTraining Accuracy:88% \tLearning Rate:0.001\n",
      "\n",
      "Test set:  Accuracy: 18182/20956 (87%), Recall: 0.8676, Precison: 0.8676274098110326, F1 Score: 0.8676274098110326 \n",
      "\n",
      "Train Epoch: 7 [14985/84027 (18%)]\tLoss: 0.217183 \tTraining Accuracy:89% \tLearning Rate:0.001\n",
      "Train Epoch: 7 [29985/84027 (36%)]\tLoss: 0.357318 \tTraining Accuracy:89% \tLearning Rate:0.001\n",
      "Train Epoch: 7 [44985/84027 (54%)]\tLoss: 0.430182 \tTraining Accuracy:89% \tLearning Rate:0.001\n",
      "Train Epoch: 7 [59985/84027 (71%)]\tLoss: 0.290769 \tTraining Accuracy:89% \tLearning Rate:0.001\n",
      "Train Epoch: 7 [74985/84027 (89%)]\tLoss: 0.510290 \tTraining Accuracy:89% \tLearning Rate:0.001\n",
      "Train Epoch: 7 [(100%)]\tLoss: 0.244087 \tTraining Accuracy:89% \tLearning Rate:0.001\n",
      "\n",
      "Test set:  Accuracy: 18367/20956 (88%), Recall: 0.8765, Precison: 0.8764554304256538, F1 Score: 0.8764554304256538 \n",
      "\n",
      "Train Epoch: 8 [14985/84027 (18%)]\tLoss: 0.386363 \tTraining Accuracy:90% \tLearning Rate:0.001\n",
      "Train Epoch: 8 [29985/84027 (36%)]\tLoss: 0.230617 \tTraining Accuracy:90% \tLearning Rate:0.001\n",
      "Train Epoch: 8 [44985/84027 (54%)]\tLoss: 0.544391 \tTraining Accuracy:90% \tLearning Rate:0.001\n",
      "Train Epoch: 8 [59985/84027 (71%)]\tLoss: 0.378902 \tTraining Accuracy:90% \tLearning Rate:0.001\n",
      "Train Epoch: 8 [74985/84027 (89%)]\tLoss: 0.332133 \tTraining Accuracy:89% \tLearning Rate:0.001\n",
      "Train Epoch: 8 [(100%)]\tLoss: 0.231189 \tTraining Accuracy:89% \tLearning Rate:0.001\n",
      "\n",
      "Test set:  Accuracy: 18314/20956 (87%), Recall: 0.8739, Precison: 0.8739263218171407, F1 Score: 0.8739263218171407 \n",
      "\n",
      "Train Epoch: 9 [14985/84027 (18%)]\tLoss: 0.320336 \tTraining Accuracy:91% \tLearning Rate:0.001\n",
      "Train Epoch: 9 [29985/84027 (36%)]\tLoss: 0.438142 \tTraining Accuracy:90% \tLearning Rate:0.001\n",
      "Train Epoch: 9 [44985/84027 (54%)]\tLoss: 0.123747 \tTraining Accuracy:90% \tLearning Rate:0.001\n",
      "Train Epoch: 9 [59985/84027 (71%)]\tLoss: 0.271871 \tTraining Accuracy:90% \tLearning Rate:0.001\n",
      "Train Epoch: 9 [74985/84027 (89%)]\tLoss: 0.060559 \tTraining Accuracy:90% \tLearning Rate:0.001\n",
      "Train Epoch: 9 [(100%)]\tLoss: 0.297839 \tTraining Accuracy:90% \tLearning Rate:0.001\n",
      "\n",
      "Test set:  Accuracy: 18223/20956 (87%), Recall: 0.8696, Precison: 0.8695838900553541, F1 Score: 0.8695838900553541 \n",
      "\n"
     ]
    }
   ],
   "source": [
    "epochs = 10\n",
    "for epoch in range(5, epochs):\n",
    "    start = time.clock()\n",
    "    scheduler.step()\n",
    "    acc_train,loss_train=train( c3d, device, train_loader, optimizer,epoch)\n",
    "    acc_test,loss_test,recall_group=test( c3d, device, test_loader)\n",
    "    end = time.clock()\n",
    "    accuracy3.loc[epoch,:]=[acc_train,acc_test]\n",
    "    timing.loc[epoch,:]=[end-start]\n",
    "    loss3.loc[epoch,:]=[loss_train,loss_test]"
   ]
  },
  {
   "cell_type": "code",
   "execution_count": 208,
   "metadata": {},
   "outputs": [],
   "source": [
    "torch.save({\n",
    "  'state_dict': c3d.state_dict()\n",
    "}, '../models/PlanctonTara_c2_ep10.pt')"
   ]
  },
  {
   "cell_type": "code",
   "execution_count": 209,
   "metadata": {},
   "outputs": [
    {
     "data": {
      "text/plain": [
       "<matplotlib.axes._subplots.AxesSubplot at 0x7f9924822b00>"
      ]
     },
     "execution_count": 209,
     "metadata": {},
     "output_type": "execute_result"
    },
    {
     "data": {
      "text/plain": [
       "<Figure size 432x288 with 0 Axes>"
      ]
     },
     "metadata": {},
     "output_type": "display_data"
    },
    {
     "data": {
      "image/png": "[encoded data removed]",
      "text/plain": [
       "<Figure size 432x288 with 1 Axes>"
      ]
     },
     "metadata": {},
     "output_type": "display_data"
    }
   ],
   "source": [
    "#Plotting Accuracy\n",
    "plt.figure()\n",
    "accuracy3.plot()"
   ]
  },
  {
   "cell_type": "code",
   "execution_count": 211,
   "metadata": {},
   "outputs": [
    {
     "data": {
      "text/plain": [
       "<matplotlib.axes._subplots.AxesSubplot at 0x7f99242b9fd0>"
      ]
     },
     "execution_count": 211,
     "metadata": {},
     "output_type": "execute_result"
    },
    {
     "data": {
      "text/plain": [
       "<Figure size 432x288 with 0 Axes>"
      ]
     },
     "metadata": {},
     "output_type": "display_data"
    },
    {
     "data": {
      "image/png": "[encoded data removed]",
      "text/plain": [
       "<Figure size 432x288 with 1 Axes>"
      ]
     },
     "metadata": {},
     "output_type": "display_data"
    }
   ],
   "source": [
    "#Plotting Loss\n",
    "plt.figure()\n",
    "loss3.plot()"
   ]
  },
  {
   "cell_type": "code",
   "execution_count": 210,
   "metadata": {},
   "outputs": [],
   "source": [
    "i=0\n",
    "for losstest in loss3.TestingLoss:\n",
    "    loss3.iloc[i,1]=losstest.item()\n",
    "    i+=1"
   ]
  },
  {
   "cell_type": "code",
   "execution_count": 196,
   "metadata": {},
   "outputs": [
    {
     "data": {
      "text/html": [
       "<div>\n",
       "<style scoped>\n",
       "    .dataframe tbody tr th:only-of-type {\n",
       "        vertical-align: middle;\n",
       "    }\n",
       "\n",
       "    .dataframe tbody tr th {\n",
       "        vertical-align: top;\n",
       "    }\n",
       "\n",
       "    .dataframe thead th {\n",
       "        text-align: right;\n",
       "    }\n",
       "</style>\n",
       "<table border=\"1\" class=\"dataframe\">\n",
       "  <thead>\n",
       "    <tr style=\"text-align: right;\">\n",
       "      <th></th>\n",
       "      <th>TrainingLoss</th>\n",
       "      <th>TestingLoss</th>\n",
       "    </tr>\n",
       "  </thead>\n",
       "  <tbody>\n",
       "    <tr>\n",
       "      <th>0</th>\n",
       "      <td>0.543588</td>\n",
       "      <td>tensor(1.00000e-06 *\\n       6.4184, device='c...</td>\n",
       "    </tr>\n",
       "  </tbody>\n",
       "</table>\n",
       "</div>"
      ],
      "text/plain": [
       "  TrainingLoss                                        TestingLoss\n",
       "0     0.543588  tensor(1.00000e-06 *\\n       6.4184, device='c..."
      ]
     },
     "execution_count": 196,
     "metadata": {},
     "output_type": "execute_result"
    }
   ],
   "source": [
    "loss3"
   ]
  },
  {
   "cell_type": "code",
   "execution_count": 198,
   "metadata": {},
   "outputs": [],
   "source": [
    "weights2=torch.load('../models/PlanctonTara_c2_ep1.pt')\n"
   ]
  },
  {
   "cell_type": "code",
   "execution_count": 199,
   "metadata": {},
   "outputs": [],
   "source": [
    "c3d2 = C3D()\n",
    "if use_cuda:\n",
    "    c3d2.cuda()\n",
    "    c3d2 = torch.nn.DataParallel(c3d2, device_ids=range(torch.cuda.device_count()))\n",
    "    cudnn.benchmark = True\n"
   ]
  },
  {
   "cell_type": "code",
   "execution_count": 179,
   "metadata": {},
   "outputs": [],
   "source": [
    "weights3=weights2.copy()\n",
    "f=list(weights2['state_dict'].keys())\n",
    "for i in f:\n",
    "    out=i.replace('module.','',1)\n",
    "    weights3['state_dict'][out] = weights3['state_dict'].pop(i)"
   ]
  },
  {
   "cell_type": "code",
   "execution_count": 200,
   "metadata": {},
   "outputs": [],
   "source": [
    "c3d2.load_state_dict(weights2['state_dict'])"
   ]
  },
  {
   "cell_type": "code",
   "execution_count": null,
   "metadata": {},
   "outputs": [],
   "source": []
  }
 ],
 "metadata": {
  "kernelspec": {
   "display_name": "Python 3",
   "language": "python",
   "name": "python3"
  },
  "language_info": {
   "codemirror_mode": {
    "name": "ipython",
    "version": 3
   },
   "file_extension": ".py",
   "mimetype": "text/x-python",
   "name": "python",
   "nbconvert_exporter": "python",
   "pygments_lexer": "ipython3",
   "version": "3.6.5"
  }
 },
 "nbformat": 4,
 "nbformat_minor": 2
}
